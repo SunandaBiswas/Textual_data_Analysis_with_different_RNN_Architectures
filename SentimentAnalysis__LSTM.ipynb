{
 "cells": [
  {
   "cell_type": "code",
   "execution_count": 1,
   "metadata": {},
   "outputs": [],
   "source": [
    "### Importing Required Libraries\n",
    "\n",
    "import re\n",
    "import pandas as pd\n",
    "import numpy as np\n",
    "import seaborn as sns\n",
    "import matplotlib.pyplot as plt\n",
    "from sklearn.utils import shuffle\n",
    "\n",
    "from nltk.corpus import stopwords\n",
    "from nltk.stem.porter import PorterStemmer\n",
    "from keras.preprocessing.text import Tokenizer\n",
    "\n",
    "from numpy import array, asarray, zeros\n",
    "from sklearn.model_selection import train_test_split\n",
    "\n",
    "from keras.models import Sequential\n",
    "from keras.preprocessing.sequence import pad_sequences\n",
    "from keras.layers.core import Activation, Dropout, Dense\n",
    "from keras.layers.embeddings import Embedding\n",
    "from keras.layers import LSTM, Flatten"
   ]
  },
  {
   "cell_type": "markdown",
   "metadata": {},
   "source": [
    "#### Load the data"
   ]
  },
  {
   "cell_type": "code",
   "execution_count": 2,
   "metadata": {},
   "outputs": [
    {
     "data": {
      "text/html": [
       "<div>\n",
       "<style scoped>\n",
       "    .dataframe tbody tr th:only-of-type {\n",
       "        vertical-align: middle;\n",
       "    }\n",
       "\n",
       "    .dataframe tbody tr th {\n",
       "        vertical-align: top;\n",
       "    }\n",
       "\n",
       "    .dataframe thead th {\n",
       "        text-align: right;\n",
       "    }\n",
       "</style>\n",
       "<table border=\"1\" class=\"dataframe\">\n",
       "  <thead>\n",
       "    <tr style=\"text-align: right;\">\n",
       "      <th></th>\n",
       "      <th>Id</th>\n",
       "      <th>ProductId</th>\n",
       "      <th>UserId</th>\n",
       "      <th>ProfileName</th>\n",
       "      <th>HelpfulnessNumerator</th>\n",
       "      <th>HelpfulnessDenominator</th>\n",
       "      <th>Score</th>\n",
       "      <th>Time</th>\n",
       "      <th>Summary</th>\n",
       "      <th>Text</th>\n",
       "    </tr>\n",
       "  </thead>\n",
       "  <tbody>\n",
       "    <tr>\n",
       "      <th>0</th>\n",
       "      <td>1</td>\n",
       "      <td>B001E4KFG0</td>\n",
       "      <td>A3SGXH7AUHU8GW</td>\n",
       "      <td>delmartian</td>\n",
       "      <td>1</td>\n",
       "      <td>1</td>\n",
       "      <td>5</td>\n",
       "      <td>1303862400</td>\n",
       "      <td>Good Quality Dog Food</td>\n",
       "      <td>I have bought several of the Vitality canned d...</td>\n",
       "    </tr>\n",
       "    <tr>\n",
       "      <th>1</th>\n",
       "      <td>2</td>\n",
       "      <td>B00813GRG4</td>\n",
       "      <td>A1D87F6ZCVE5NK</td>\n",
       "      <td>dll pa</td>\n",
       "      <td>0</td>\n",
       "      <td>0</td>\n",
       "      <td>1</td>\n",
       "      <td>1346976000</td>\n",
       "      <td>Not as Advertised</td>\n",
       "      <td>Product arrived labeled as Jumbo Salted Peanut...</td>\n",
       "    </tr>\n",
       "    <tr>\n",
       "      <th>2</th>\n",
       "      <td>3</td>\n",
       "      <td>B000LQOCH0</td>\n",
       "      <td>ABXLMWJIXXAIN</td>\n",
       "      <td>Natalia Corres \"Natalia Corres\"</td>\n",
       "      <td>1</td>\n",
       "      <td>1</td>\n",
       "      <td>4</td>\n",
       "      <td>1219017600</td>\n",
       "      <td>\"Delight\" says it all</td>\n",
       "      <td>This is a confection that has been around a fe...</td>\n",
       "    </tr>\n",
       "    <tr>\n",
       "      <th>3</th>\n",
       "      <td>4</td>\n",
       "      <td>B000UA0QIQ</td>\n",
       "      <td>A395BORC6FGVXV</td>\n",
       "      <td>Karl</td>\n",
       "      <td>3</td>\n",
       "      <td>3</td>\n",
       "      <td>2</td>\n",
       "      <td>1307923200</td>\n",
       "      <td>Cough Medicine</td>\n",
       "      <td>If you are looking for the secret ingredient i...</td>\n",
       "    </tr>\n",
       "    <tr>\n",
       "      <th>4</th>\n",
       "      <td>5</td>\n",
       "      <td>B006K2ZZ7K</td>\n",
       "      <td>A1UQRSCLF8GW1T</td>\n",
       "      <td>Michael D. Bigham \"M. Wassir\"</td>\n",
       "      <td>0</td>\n",
       "      <td>0</td>\n",
       "      <td>5</td>\n",
       "      <td>1350777600</td>\n",
       "      <td>Great taffy</td>\n",
       "      <td>Great taffy at a great price.  There was a wid...</td>\n",
       "    </tr>\n",
       "  </tbody>\n",
       "</table>\n",
       "</div>"
      ],
      "text/plain": [
       "   Id   ProductId          UserId                      ProfileName  \\\n",
       "0   1  B001E4KFG0  A3SGXH7AUHU8GW                       delmartian   \n",
       "1   2  B00813GRG4  A1D87F6ZCVE5NK                           dll pa   \n",
       "2   3  B000LQOCH0   ABXLMWJIXXAIN  Natalia Corres \"Natalia Corres\"   \n",
       "3   4  B000UA0QIQ  A395BORC6FGVXV                             Karl   \n",
       "4   5  B006K2ZZ7K  A1UQRSCLF8GW1T    Michael D. Bigham \"M. Wassir\"   \n",
       "\n",
       "   HelpfulnessNumerator  HelpfulnessDenominator  Score        Time  \\\n",
       "0                     1                       1      5  1303862400   \n",
       "1                     0                       0      1  1346976000   \n",
       "2                     1                       1      4  1219017600   \n",
       "3                     3                       3      2  1307923200   \n",
       "4                     0                       0      5  1350777600   \n",
       "\n",
       "                 Summary                                               Text  \n",
       "0  Good Quality Dog Food  I have bought several of the Vitality canned d...  \n",
       "1      Not as Advertised  Product arrived labeled as Jumbo Salted Peanut...  \n",
       "2  \"Delight\" says it all  This is a confection that has been around a fe...  \n",
       "3         Cough Medicine  If you are looking for the secret ingredient i...  \n",
       "4            Great taffy  Great taffy at a great price.  There was a wid...  "
      ]
     },
     "execution_count": 2,
     "metadata": {},
     "output_type": "execute_result"
    }
   ],
   "source": [
    "dataframe = pd.read_csv(r'C:\\Users\\sunan\\Desktop\\Projects\\Sentiment analysis(chunks)\\Amazon Food Review Analysis\\Amazon_FoodReviews.csv')\n",
    "dataframe.head()"
   ]
  },
  {
   "cell_type": "code",
   "execution_count": 3,
   "metadata": {},
   "outputs": [
    {
     "data": {
      "text/html": [
       "<div>\n",
       "<style scoped>\n",
       "    .dataframe tbody tr th:only-of-type {\n",
       "        vertical-align: middle;\n",
       "    }\n",
       "\n",
       "    .dataframe tbody tr th {\n",
       "        vertical-align: top;\n",
       "    }\n",
       "\n",
       "    .dataframe thead th {\n",
       "        text-align: right;\n",
       "    }\n",
       "</style>\n",
       "<table border=\"1\" class=\"dataframe\">\n",
       "  <thead>\n",
       "    <tr style=\"text-align: right;\">\n",
       "      <th></th>\n",
       "      <th>Score</th>\n",
       "      <th>Text</th>\n",
       "    </tr>\n",
       "  </thead>\n",
       "  <tbody>\n",
       "    <tr>\n",
       "      <th>0</th>\n",
       "      <td>5</td>\n",
       "      <td>I have bought several of the Vitality canned d...</td>\n",
       "    </tr>\n",
       "    <tr>\n",
       "      <th>1</th>\n",
       "      <td>1</td>\n",
       "      <td>Product arrived labeled as Jumbo Salted Peanut...</td>\n",
       "    </tr>\n",
       "    <tr>\n",
       "      <th>2</th>\n",
       "      <td>4</td>\n",
       "      <td>This is a confection that has been around a fe...</td>\n",
       "    </tr>\n",
       "    <tr>\n",
       "      <th>3</th>\n",
       "      <td>2</td>\n",
       "      <td>If you are looking for the secret ingredient i...</td>\n",
       "    </tr>\n",
       "    <tr>\n",
       "      <th>4</th>\n",
       "      <td>5</td>\n",
       "      <td>Great taffy at a great price.  There was a wid...</td>\n",
       "    </tr>\n",
       "  </tbody>\n",
       "</table>\n",
       "</div>"
      ],
      "text/plain": [
       "   Score                                               Text\n",
       "0      5  I have bought several of the Vitality canned d...\n",
       "1      1  Product arrived labeled as Jumbo Salted Peanut...\n",
       "2      4  This is a confection that has been around a fe...\n",
       "3      2  If you are looking for the secret ingredient i...\n",
       "4      5  Great taffy at a great price.  There was a wid..."
      ]
     },
     "execution_count": 3,
     "metadata": {},
     "output_type": "execute_result"
    }
   ],
   "source": [
    "_df = dataframe.drop(['Id','ProductId','UserId','ProfileName','HelpfulnessNumerator', 'HelpfulnessDenominator','Time', 'Summary'], axis=1)\n",
    "_df.head()"
   ]
  },
  {
   "cell_type": "code",
   "execution_count": 4,
   "metadata": {},
   "outputs": [
    {
     "data": {
      "text/plain": [
       "Score    0\n",
       "Text     0\n",
       "dtype: int64"
      ]
     },
     "execution_count": 4,
     "metadata": {},
     "output_type": "execute_result"
    }
   ],
   "source": [
    "_df.isnull().sum()"
   ]
  },
  {
   "cell_type": "code",
   "execution_count": 5,
   "metadata": {},
   "outputs": [
    {
     "data": {
      "text/plain": [
       "<AxesSubplot:xlabel='Score', ylabel='count'>"
      ]
     },
     "execution_count": 5,
     "metadata": {},
     "output_type": "execute_result"
    },
    {
     "data": {
      "image/png": "[encoded data removed]",
      "text/plain": [
       "<Figure size 432x288 with 1 Axes>"
      ]
     },
     "metadata": {
      "needs_background": "light"
     },
     "output_type": "display_data"
    }
   ],
   "source": [
    "##Checking the distribution \n",
    "\n",
    "sns.countplot(x = 'Score', data =_df)"
   ]
  },
  {
   "cell_type": "code",
   "execution_count": 6,
   "metadata": {},
   "outputs": [
    {
     "data": {
      "text/plain": [
       "array([5, 1, 4, 2, 3], dtype=int64)"
      ]
     },
     "execution_count": 6,
     "metadata": {},
     "output_type": "execute_result"
    }
   ],
   "source": [
    "_df['Score'].unique()"
   ]
  },
  {
   "cell_type": "code",
   "execution_count": 7,
   "metadata": {},
   "outputs": [
    {
     "data": {
      "text/html": [
       "<div>\n",
       "<style scoped>\n",
       "    .dataframe tbody tr th:only-of-type {\n",
       "        vertical-align: middle;\n",
       "    }\n",
       "\n",
       "    .dataframe tbody tr th {\n",
       "        vertical-align: top;\n",
       "    }\n",
       "\n",
       "    .dataframe thead th {\n",
       "        text-align: right;\n",
       "    }\n",
       "</style>\n",
       "<table border=\"1\" class=\"dataframe\">\n",
       "  <thead>\n",
       "    <tr style=\"text-align: right;\">\n",
       "      <th></th>\n",
       "      <th>Score</th>\n",
       "      <th>Text</th>\n",
       "    </tr>\n",
       "  </thead>\n",
       "  <tbody>\n",
       "    <tr>\n",
       "      <th>0</th>\n",
       "      <td>5</td>\n",
       "      <td>I have bought several of the Vitality canned d...</td>\n",
       "    </tr>\n",
       "    <tr>\n",
       "      <th>4</th>\n",
       "      <td>5</td>\n",
       "      <td>Great taffy at a great price.  There was a wid...</td>\n",
       "    </tr>\n",
       "    <tr>\n",
       "      <th>6</th>\n",
       "      <td>5</td>\n",
       "      <td>This saltwater taffy had great flavors and was...</td>\n",
       "    </tr>\n",
       "    <tr>\n",
       "      <th>7</th>\n",
       "      <td>5</td>\n",
       "      <td>This taffy is so good.  It is very soft and ch...</td>\n",
       "    </tr>\n",
       "    <tr>\n",
       "      <th>8</th>\n",
       "      <td>5</td>\n",
       "      <td>Right now I'm mostly just sprouting this so my...</td>\n",
       "    </tr>\n",
       "    <tr>\n",
       "      <th>...</th>\n",
       "      <td>...</td>\n",
       "      <td>...</td>\n",
       "    </tr>\n",
       "    <tr>\n",
       "      <th>568448</th>\n",
       "      <td>5</td>\n",
       "      <td>My only complaint is that there's so much of i...</td>\n",
       "    </tr>\n",
       "    <tr>\n",
       "      <th>568449</th>\n",
       "      <td>5</td>\n",
       "      <td>Great for sesame chicken..this is a good if no...</td>\n",
       "    </tr>\n",
       "    <tr>\n",
       "      <th>568451</th>\n",
       "      <td>5</td>\n",
       "      <td>These stars are small, so you can give 10-15 o...</td>\n",
       "    </tr>\n",
       "    <tr>\n",
       "      <th>568452</th>\n",
       "      <td>5</td>\n",
       "      <td>These are the BEST treats for training and rew...</td>\n",
       "    </tr>\n",
       "    <tr>\n",
       "      <th>568453</th>\n",
       "      <td>5</td>\n",
       "      <td>I am very satisfied ,product is as advertised,...</td>\n",
       "    </tr>\n",
       "  </tbody>\n",
       "</table>\n",
       "<p>363122 rows × 2 columns</p>\n",
       "</div>"
      ],
      "text/plain": [
       "        Score                                               Text\n",
       "0           5  I have bought several of the Vitality canned d...\n",
       "4           5  Great taffy at a great price.  There was a wid...\n",
       "6           5  This saltwater taffy had great flavors and was...\n",
       "7           5  This taffy is so good.  It is very soft and ch...\n",
       "8           5  Right now I'm mostly just sprouting this so my...\n",
       "...       ...                                                ...\n",
       "568448      5  My only complaint is that there's so much of i...\n",
       "568449      5  Great for sesame chicken..this is a good if no...\n",
       "568451      5  These stars are small, so you can give 10-15 o...\n",
       "568452      5  These are the BEST treats for training and rew...\n",
       "568453      5  I am very satisfied ,product is as advertised,...\n",
       "\n",
       "[363122 rows x 2 columns]"
      ]
     },
     "execution_count": 7,
     "metadata": {},
     "output_type": "execute_result"
    }
   ],
   "source": [
    "df1 = _df.loc[_df[\"Score\"] == 5]\n",
    "df1"
   ]
  },
  {
   "cell_type": "code",
   "execution_count": 8,
   "metadata": {},
   "outputs": [
    {
     "data": {
      "text/html": [
       "<div>\n",
       "<style scoped>\n",
       "    .dataframe tbody tr th:only-of-type {\n",
       "        vertical-align: middle;\n",
       "    }\n",
       "\n",
       "    .dataframe tbody tr th {\n",
       "        vertical-align: top;\n",
       "    }\n",
       "\n",
       "    .dataframe thead th {\n",
       "        text-align: right;\n",
       "    }\n",
       "</style>\n",
       "<table border=\"1\" class=\"dataframe\">\n",
       "  <thead>\n",
       "    <tr style=\"text-align: right;\">\n",
       "      <th></th>\n",
       "      <th>Score</th>\n",
       "      <th>Text</th>\n",
       "    </tr>\n",
       "  </thead>\n",
       "  <tbody>\n",
       "    <tr>\n",
       "      <th>1</th>\n",
       "      <td>1</td>\n",
       "      <td>Product arrived labeled as Jumbo Salted Peanut...</td>\n",
       "    </tr>\n",
       "    <tr>\n",
       "      <th>2</th>\n",
       "      <td>4</td>\n",
       "      <td>This is a confection that has been around a fe...</td>\n",
       "    </tr>\n",
       "    <tr>\n",
       "      <th>3</th>\n",
       "      <td>2</td>\n",
       "      <td>If you are looking for the secret ingredient i...</td>\n",
       "    </tr>\n",
       "    <tr>\n",
       "      <th>5</th>\n",
       "      <td>4</td>\n",
       "      <td>I got a wild hair for taffy and ordered this f...</td>\n",
       "    </tr>\n",
       "    <tr>\n",
       "      <th>12</th>\n",
       "      <td>1</td>\n",
       "      <td>My cats have been happily eating Felidae Plati...</td>\n",
       "    </tr>\n",
       "    <tr>\n",
       "      <th>...</th>\n",
       "      <td>...</td>\n",
       "      <td>...</td>\n",
       "    </tr>\n",
       "    <tr>\n",
       "      <th>568434</th>\n",
       "      <td>2</td>\n",
       "      <td>This soup is mostly broth. Although it has a k...</td>\n",
       "    </tr>\n",
       "    <tr>\n",
       "      <th>568435</th>\n",
       "      <td>2</td>\n",
       "      <td>It is mostly broth, with the advertised 3/4 cu...</td>\n",
       "    </tr>\n",
       "    <tr>\n",
       "      <th>568439</th>\n",
       "      <td>4</td>\n",
       "      <td>We need this for a recipe my wife is intereste...</td>\n",
       "    </tr>\n",
       "    <tr>\n",
       "      <th>568446</th>\n",
       "      <td>2</td>\n",
       "      <td>I had ordered some of these a few months back ...</td>\n",
       "    </tr>\n",
       "    <tr>\n",
       "      <th>568450</th>\n",
       "      <td>2</td>\n",
       "      <td>I'm disappointed with the flavor. The chocolat...</td>\n",
       "    </tr>\n",
       "  </tbody>\n",
       "</table>\n",
       "<p>205332 rows × 2 columns</p>\n",
       "</div>"
      ],
      "text/plain": [
       "        Score                                               Text\n",
       "1           1  Product arrived labeled as Jumbo Salted Peanut...\n",
       "2           4  This is a confection that has been around a fe...\n",
       "3           2  If you are looking for the secret ingredient i...\n",
       "5           4  I got a wild hair for taffy and ordered this f...\n",
       "12          1  My cats have been happily eating Felidae Plati...\n",
       "...       ...                                                ...\n",
       "568434      2  This soup is mostly broth. Although it has a k...\n",
       "568435      2  It is mostly broth, with the advertised 3/4 cu...\n",
       "568439      4  We need this for a recipe my wife is intereste...\n",
       "568446      2  I had ordered some of these a few months back ...\n",
       "568450      2  I'm disappointed with the flavor. The chocolat...\n",
       "\n",
       "[205332 rows x 2 columns]"
      ]
     },
     "execution_count": 8,
     "metadata": {},
     "output_type": "execute_result"
    }
   ],
   "source": [
    "df2 = _df.loc[_df[\"Score\"] != 5]\n",
    "df2"
   ]
  },
  {
   "cell_type": "code",
   "execution_count": 9,
   "metadata": {},
   "outputs": [
    {
     "data": {
      "text/plain": [
       "(363122, 2)"
      ]
     },
     "execution_count": 9,
     "metadata": {},
     "output_type": "execute_result"
    }
   ],
   "source": [
    "df1.shape"
   ]
  },
  {
   "cell_type": "code",
   "execution_count": 10,
   "metadata": {},
   "outputs": [
    {
     "data": {
      "text/plain": [
       "(205332, 2)"
      ]
     },
     "execution_count": 10,
     "metadata": {},
     "output_type": "execute_result"
    }
   ],
   "source": [
    "df2.shape"
   ]
  },
  {
   "cell_type": "code",
   "execution_count": 11,
   "metadata": {},
   "outputs": [
    {
     "data": {
      "text/html": [
       "<div>\n",
       "<style scoped>\n",
       "    .dataframe tbody tr th:only-of-type {\n",
       "        vertical-align: middle;\n",
       "    }\n",
       "\n",
       "    .dataframe tbody tr th {\n",
       "        vertical-align: top;\n",
       "    }\n",
       "\n",
       "    .dataframe thead th {\n",
       "        text-align: right;\n",
       "    }\n",
       "</style>\n",
       "<table border=\"1\" class=\"dataframe\">\n",
       "  <thead>\n",
       "    <tr style=\"text-align: right;\">\n",
       "      <th></th>\n",
       "      <th>Score</th>\n",
       "      <th>Text</th>\n",
       "    </tr>\n",
       "  </thead>\n",
       "  <tbody>\n",
       "    <tr>\n",
       "      <th>0</th>\n",
       "      <td>5</td>\n",
       "      <td>I have bought several of the Vitality canned d...</td>\n",
       "    </tr>\n",
       "    <tr>\n",
       "      <th>4</th>\n",
       "      <td>5</td>\n",
       "      <td>Great taffy at a great price.  There was a wid...</td>\n",
       "    </tr>\n",
       "    <tr>\n",
       "      <th>6</th>\n",
       "      <td>5</td>\n",
       "      <td>This saltwater taffy had great flavors and was...</td>\n",
       "    </tr>\n",
       "    <tr>\n",
       "      <th>7</th>\n",
       "      <td>5</td>\n",
       "      <td>This taffy is so good.  It is very soft and ch...</td>\n",
       "    </tr>\n",
       "    <tr>\n",
       "      <th>8</th>\n",
       "      <td>5</td>\n",
       "      <td>Right now I'm mostly just sprouting this so my...</td>\n",
       "    </tr>\n",
       "    <tr>\n",
       "      <th>...</th>\n",
       "      <td>...</td>\n",
       "      <td>...</td>\n",
       "    </tr>\n",
       "    <tr>\n",
       "      <th>287326</th>\n",
       "      <td>5</td>\n",
       "      <td>You just CANNOT get any better snack than Prin...</td>\n",
       "    </tr>\n",
       "    <tr>\n",
       "      <th>287327</th>\n",
       "      <td>5</td>\n",
       "      <td>This is the only tea I drink anymore.&lt;br /&gt;The...</td>\n",
       "    </tr>\n",
       "    <tr>\n",
       "      <th>287329</th>\n",
       "      <td>5</td>\n",
       "      <td>This soup is a long-standing family favorite (...</td>\n",
       "    </tr>\n",
       "    <tr>\n",
       "      <th>287330</th>\n",
       "      <td>5</td>\n",
       "      <td>These little treats, the size and shape of reg...</td>\n",
       "    </tr>\n",
       "    <tr>\n",
       "      <th>287331</th>\n",
       "      <td>5</td>\n",
       "      <td>Got a sample of this in a Harry &amp; David Fruit ...</td>\n",
       "    </tr>\n",
       "  </tbody>\n",
       "</table>\n",
       "<p>181561 rows × 2 columns</p>\n",
       "</div>"
      ],
      "text/plain": [
       "        Score                                               Text\n",
       "0           5  I have bought several of the Vitality canned d...\n",
       "4           5  Great taffy at a great price.  There was a wid...\n",
       "6           5  This saltwater taffy had great flavors and was...\n",
       "7           5  This taffy is so good.  It is very soft and ch...\n",
       "8           5  Right now I'm mostly just sprouting this so my...\n",
       "...       ...                                                ...\n",
       "287326      5  You just CANNOT get any better snack than Prin...\n",
       "287327      5  This is the only tea I drink anymore.<br />The...\n",
       "287329      5  This soup is a long-standing family favorite (...\n",
       "287330      5  These little treats, the size and shape of reg...\n",
       "287331      5  Got a sample of this in a Harry & David Fruit ...\n",
       "\n",
       "[181561 rows x 2 columns]"
      ]
     },
     "execution_count": 11,
     "metadata": {},
     "output_type": "execute_result"
    }
   ],
   "source": [
    "df1_new = df1.head(181561)\n",
    "df1_new "
   ]
  },
  {
   "cell_type": "code",
   "execution_count": 12,
   "metadata": {},
   "outputs": [
    {
     "data": {
      "text/html": [
       "<div>\n",
       "<style scoped>\n",
       "    .dataframe tbody tr th:only-of-type {\n",
       "        vertical-align: middle;\n",
       "    }\n",
       "\n",
       "    .dataframe tbody tr th {\n",
       "        vertical-align: top;\n",
       "    }\n",
       "\n",
       "    .dataframe thead th {\n",
       "        text-align: right;\n",
       "    }\n",
       "</style>\n",
       "<table border=\"1\" class=\"dataframe\">\n",
       "  <thead>\n",
       "    <tr style=\"text-align: right;\">\n",
       "      <th></th>\n",
       "      <th>Score</th>\n",
       "      <th>Text</th>\n",
       "    </tr>\n",
       "  </thead>\n",
       "  <tbody>\n",
       "    <tr>\n",
       "      <th>0</th>\n",
       "      <td>5</td>\n",
       "      <td>I have bought several of the Vitality canned d...</td>\n",
       "    </tr>\n",
       "    <tr>\n",
       "      <th>4</th>\n",
       "      <td>5</td>\n",
       "      <td>Great taffy at a great price.  There was a wid...</td>\n",
       "    </tr>\n",
       "    <tr>\n",
       "      <th>6</th>\n",
       "      <td>5</td>\n",
       "      <td>This saltwater taffy had great flavors and was...</td>\n",
       "    </tr>\n",
       "    <tr>\n",
       "      <th>7</th>\n",
       "      <td>5</td>\n",
       "      <td>This taffy is so good.  It is very soft and ch...</td>\n",
       "    </tr>\n",
       "    <tr>\n",
       "      <th>8</th>\n",
       "      <td>5</td>\n",
       "      <td>Right now I'm mostly just sprouting this so my...</td>\n",
       "    </tr>\n",
       "    <tr>\n",
       "      <th>...</th>\n",
       "      <td>...</td>\n",
       "      <td>...</td>\n",
       "    </tr>\n",
       "    <tr>\n",
       "      <th>568434</th>\n",
       "      <td>2</td>\n",
       "      <td>This soup is mostly broth. Although it has a k...</td>\n",
       "    </tr>\n",
       "    <tr>\n",
       "      <th>568435</th>\n",
       "      <td>2</td>\n",
       "      <td>It is mostly broth, with the advertised 3/4 cu...</td>\n",
       "    </tr>\n",
       "    <tr>\n",
       "      <th>568439</th>\n",
       "      <td>4</td>\n",
       "      <td>We need this for a recipe my wife is intereste...</td>\n",
       "    </tr>\n",
       "    <tr>\n",
       "      <th>568446</th>\n",
       "      <td>2</td>\n",
       "      <td>I had ordered some of these a few months back ...</td>\n",
       "    </tr>\n",
       "    <tr>\n",
       "      <th>568450</th>\n",
       "      <td>2</td>\n",
       "      <td>I'm disappointed with the flavor. The chocolat...</td>\n",
       "    </tr>\n",
       "  </tbody>\n",
       "</table>\n",
       "<p>386893 rows × 2 columns</p>\n",
       "</div>"
      ],
      "text/plain": [
       "        Score                                               Text\n",
       "0           5  I have bought several of the Vitality canned d...\n",
       "4           5  Great taffy at a great price.  There was a wid...\n",
       "6           5  This saltwater taffy had great flavors and was...\n",
       "7           5  This taffy is so good.  It is very soft and ch...\n",
       "8           5  Right now I'm mostly just sprouting this so my...\n",
       "...       ...                                                ...\n",
       "568434      2  This soup is mostly broth. Although it has a k...\n",
       "568435      2  It is mostly broth, with the advertised 3/4 cu...\n",
       "568439      4  We need this for a recipe my wife is intereste...\n",
       "568446      2  I had ordered some of these a few months back ...\n",
       "568450      2  I'm disappointed with the flavor. The chocolat...\n",
       "\n",
       "[386893 rows x 2 columns]"
      ]
     },
     "execution_count": 12,
     "metadata": {},
     "output_type": "execute_result"
    }
   ],
   "source": [
    "finaldf = pd.concat([df1_new, df2], axis=0)\n",
    "finaldf"
   ]
  },
  {
   "cell_type": "code",
   "execution_count": 13,
   "metadata": {},
   "outputs": [
    {
     "name": "stdout",
     "output_type": "stream",
     "text": [
      "<class 'pandas.core.frame.DataFrame'>\n",
      "Int64Index: 386893 entries, 0 to 568450\n",
      "Data columns (total 2 columns):\n",
      " #   Column  Non-Null Count   Dtype \n",
      "---  ------  --------------   ----- \n",
      " 0   Score   386893 non-null  int64 \n",
      " 1   Text    386893 non-null  object\n",
      "dtypes: int64(1), object(1)\n",
      "memory usage: 8.9+ MB\n"
     ]
    }
   ],
   "source": [
    "finaldf.info()"
   ]
  },
  {
   "cell_type": "code",
   "execution_count": 14,
   "metadata": {},
   "outputs": [
    {
     "data": {
      "text/plain": [
       "(386893, 2)"
      ]
     },
     "execution_count": 14,
     "metadata": {},
     "output_type": "execute_result"
    }
   ],
   "source": [
    "finaldf.shape"
   ]
  },
  {
   "cell_type": "code",
   "execution_count": 15,
   "metadata": {},
   "outputs": [
    {
     "data": {
      "text/html": [
       "<div>\n",
       "<style scoped>\n",
       "    .dataframe tbody tr th:only-of-type {\n",
       "        vertical-align: middle;\n",
       "    }\n",
       "\n",
       "    .dataframe tbody tr th {\n",
       "        vertical-align: top;\n",
       "    }\n",
       "\n",
       "    .dataframe thead th {\n",
       "        text-align: right;\n",
       "    }\n",
       "</style>\n",
       "<table border=\"1\" class=\"dataframe\">\n",
       "  <thead>\n",
       "    <tr style=\"text-align: right;\">\n",
       "      <th></th>\n",
       "      <th>Score</th>\n",
       "      <th>Text</th>\n",
       "    </tr>\n",
       "  </thead>\n",
       "  <tbody>\n",
       "    <tr>\n",
       "      <th>548437</th>\n",
       "      <td>2</td>\n",
       "      <td>Nong Shim, Nong Shim... that's all I hear in t...</td>\n",
       "    </tr>\n",
       "    <tr>\n",
       "      <th>32537</th>\n",
       "      <td>5</td>\n",
       "      <td>This juice is very good for a lot of different...</td>\n",
       "    </tr>\n",
       "    <tr>\n",
       "      <th>483911</th>\n",
       "      <td>2</td>\n",
       "      <td>I have always loved just about any product tha...</td>\n",
       "    </tr>\n",
       "    <tr>\n",
       "      <th>70181</th>\n",
       "      <td>5</td>\n",
       "      <td>I tried this and I like it! I find it to be a ...</td>\n",
       "    </tr>\n",
       "    <tr>\n",
       "      <th>433080</th>\n",
       "      <td>3</td>\n",
       "      <td>This tea has a strong and very unusual taste a...</td>\n",
       "    </tr>\n",
       "    <tr>\n",
       "      <th>...</th>\n",
       "      <td>...</td>\n",
       "      <td>...</td>\n",
       "    </tr>\n",
       "    <tr>\n",
       "      <th>462701</th>\n",
       "      <td>1</td>\n",
       "      <td>My wife and I like strong coffee. Even brewing...</td>\n",
       "    </tr>\n",
       "    <tr>\n",
       "      <th>61521</th>\n",
       "      <td>5</td>\n",
       "      <td>Getting your coffee via Amazon is a much cheap...</td>\n",
       "    </tr>\n",
       "    <tr>\n",
       "      <th>450824</th>\n",
       "      <td>3</td>\n",
       "      <td>For the price per pound on this stuff, I would...</td>\n",
       "    </tr>\n",
       "    <tr>\n",
       "      <th>114380</th>\n",
       "      <td>5</td>\n",
       "      <td>Mi-Del Swedish style ginger snaps are deliciou...</td>\n",
       "    </tr>\n",
       "    <tr>\n",
       "      <th>46381</th>\n",
       "      <td>3</td>\n",
       "      <td>This review is primarily for the PB2 product (...</td>\n",
       "    </tr>\n",
       "  </tbody>\n",
       "</table>\n",
       "<p>386893 rows × 2 columns</p>\n",
       "</div>"
      ],
      "text/plain": [
       "        Score                                               Text\n",
       "548437      2  Nong Shim, Nong Shim... that's all I hear in t...\n",
       "32537       5  This juice is very good for a lot of different...\n",
       "483911      2  I have always loved just about any product tha...\n",
       "70181       5  I tried this and I like it! I find it to be a ...\n",
       "433080      3  This tea has a strong and very unusual taste a...\n",
       "...       ...                                                ...\n",
       "462701      1  My wife and I like strong coffee. Even brewing...\n",
       "61521       5  Getting your coffee via Amazon is a much cheap...\n",
       "450824      3  For the price per pound on this stuff, I would...\n",
       "114380      5  Mi-Del Swedish style ginger snaps are deliciou...\n",
       "46381       3  This review is primarily for the PB2 product (...\n",
       "\n",
       "[386893 rows x 2 columns]"
      ]
     },
     "execution_count": 15,
     "metadata": {},
     "output_type": "execute_result"
    }
   ],
   "source": [
    "df = shuffle(finaldf)\n",
    "df"
   ]
  },
  {
   "cell_type": "code",
   "execution_count": 16,
   "metadata": {},
   "outputs": [
    {
     "data": {
      "text/plain": [
       "<AxesSubplot:xlabel='Score', ylabel='count'>"
      ]
     },
     "execution_count": 16,
     "metadata": {},
     "output_type": "execute_result"
    },
    {
     "data": {
      "image/png": "[encoded data removed]",
      "text/plain": [
       "<Figure size 432x288 with 1 Axes>"
      ]
     },
     "metadata": {
      "needs_background": "light"
     },
     "output_type": "display_data"
    }
   ],
   "source": [
    "sns.countplot(x = 'Score', data = finaldf)"
   ]
  },
  {
   "cell_type": "code",
   "execution_count": 17,
   "metadata": {},
   "outputs": [],
   "source": [
    "df.reset_index(drop=True, inplace=True)"
   ]
  },
  {
   "cell_type": "code",
   "execution_count": 18,
   "metadata": {},
   "outputs": [
    {
     "data": {
      "text/html": [
       "<div>\n",
       "<style scoped>\n",
       "    .dataframe tbody tr th:only-of-type {\n",
       "        vertical-align: middle;\n",
       "    }\n",
       "\n",
       "    .dataframe tbody tr th {\n",
       "        vertical-align: top;\n",
       "    }\n",
       "\n",
       "    .dataframe thead th {\n",
       "        text-align: right;\n",
       "    }\n",
       "</style>\n",
       "<table border=\"1\" class=\"dataframe\">\n",
       "  <thead>\n",
       "    <tr style=\"text-align: right;\">\n",
       "      <th></th>\n",
       "      <th>Score</th>\n",
       "      <th>Text</th>\n",
       "    </tr>\n",
       "  </thead>\n",
       "  <tbody>\n",
       "    <tr>\n",
       "      <th>0</th>\n",
       "      <td>2</td>\n",
       "      <td>Nong Shim, Nong Shim... that's all I hear in t...</td>\n",
       "    </tr>\n",
       "    <tr>\n",
       "      <th>1</th>\n",
       "      <td>5</td>\n",
       "      <td>This juice is very good for a lot of different...</td>\n",
       "    </tr>\n",
       "    <tr>\n",
       "      <th>2</th>\n",
       "      <td>2</td>\n",
       "      <td>I have always loved just about any product tha...</td>\n",
       "    </tr>\n",
       "    <tr>\n",
       "      <th>3</th>\n",
       "      <td>5</td>\n",
       "      <td>I tried this and I like it! I find it to be a ...</td>\n",
       "    </tr>\n",
       "    <tr>\n",
       "      <th>4</th>\n",
       "      <td>3</td>\n",
       "      <td>This tea has a strong and very unusual taste a...</td>\n",
       "    </tr>\n",
       "    <tr>\n",
       "      <th>...</th>\n",
       "      <td>...</td>\n",
       "      <td>...</td>\n",
       "    </tr>\n",
       "    <tr>\n",
       "      <th>386888</th>\n",
       "      <td>1</td>\n",
       "      <td>My wife and I like strong coffee. Even brewing...</td>\n",
       "    </tr>\n",
       "    <tr>\n",
       "      <th>386889</th>\n",
       "      <td>5</td>\n",
       "      <td>Getting your coffee via Amazon is a much cheap...</td>\n",
       "    </tr>\n",
       "    <tr>\n",
       "      <th>386890</th>\n",
       "      <td>3</td>\n",
       "      <td>For the price per pound on this stuff, I would...</td>\n",
       "    </tr>\n",
       "    <tr>\n",
       "      <th>386891</th>\n",
       "      <td>5</td>\n",
       "      <td>Mi-Del Swedish style ginger snaps are deliciou...</td>\n",
       "    </tr>\n",
       "    <tr>\n",
       "      <th>386892</th>\n",
       "      <td>3</td>\n",
       "      <td>This review is primarily for the PB2 product (...</td>\n",
       "    </tr>\n",
       "  </tbody>\n",
       "</table>\n",
       "<p>386893 rows × 2 columns</p>\n",
       "</div>"
      ],
      "text/plain": [
       "        Score                                               Text\n",
       "0           2  Nong Shim, Nong Shim... that's all I hear in t...\n",
       "1           5  This juice is very good for a lot of different...\n",
       "2           2  I have always loved just about any product tha...\n",
       "3           5  I tried this and I like it! I find it to be a ...\n",
       "4           3  This tea has a strong and very unusual taste a...\n",
       "...       ...                                                ...\n",
       "386888      1  My wife and I like strong coffee. Even brewing...\n",
       "386889      5  Getting your coffee via Amazon is a much cheap...\n",
       "386890      3  For the price per pound on this stuff, I would...\n",
       "386891      5  Mi-Del Swedish style ginger snaps are deliciou...\n",
       "386892      3  This review is primarily for the PB2 product (...\n",
       "\n",
       "[386893 rows x 2 columns]"
      ]
     },
     "execution_count": 18,
     "metadata": {},
     "output_type": "execute_result"
    }
   ],
   "source": [
    "df"
   ]
  },
  {
   "cell_type": "code",
   "execution_count": 21,
   "metadata": {},
   "outputs": [],
   "source": [
    "import csv    ## creating new csv ## dropped unnecessary columns\n",
    "df.to_csv('Foodreviews.csv',index = False)"
   ]
  },
  {
   "cell_type": "code",
   "execution_count": 22,
   "metadata": {},
   "outputs": [
    {
     "data": {
      "text/html": [
       "<div>\n",
       "<style scoped>\n",
       "    .dataframe tbody tr th:only-of-type {\n",
       "        vertical-align: middle;\n",
       "    }\n",
       "\n",
       "    .dataframe tbody tr th {\n",
       "        vertical-align: top;\n",
       "    }\n",
       "\n",
       "    .dataframe thead th {\n",
       "        text-align: right;\n",
       "    }\n",
       "</style>\n",
       "<table border=\"1\" class=\"dataframe\">\n",
       "  <thead>\n",
       "    <tr style=\"text-align: right;\">\n",
       "      <th></th>\n",
       "      <th>Score</th>\n",
       "      <th>Text</th>\n",
       "    </tr>\n",
       "  </thead>\n",
       "  <tbody>\n",
       "    <tr>\n",
       "      <th>0</th>\n",
       "      <td>1</td>\n",
       "      <td>We have now gone through 4 formulas, and here ...</td>\n",
       "    </tr>\n",
       "    <tr>\n",
       "      <th>1</th>\n",
       "      <td>5</td>\n",
       "      <td>My miniature Schnauzer absolutely loves these ...</td>\n",
       "    </tr>\n",
       "    <tr>\n",
       "      <th>2</th>\n",
       "      <td>5</td>\n",
       "      <td>I use it to help jump start my weight loss reg...</td>\n",
       "    </tr>\n",
       "    <tr>\n",
       "      <th>3</th>\n",
       "      <td>5</td>\n",
       "      <td>Used to use clumping cheap litter for our 4 mo...</td>\n",
       "    </tr>\n",
       "    <tr>\n",
       "      <th>4</th>\n",
       "      <td>5</td>\n",
       "      <td>These supposedly have some of the highest leve...</td>\n",
       "    </tr>\n",
       "    <tr>\n",
       "      <th>5</th>\n",
       "      <td>1</td>\n",
       "      <td>There is nothing special or unique about this ...</td>\n",
       "    </tr>\n",
       "    <tr>\n",
       "      <th>6</th>\n",
       "      <td>5</td>\n",
       "      <td>Caribou is a nice coffee blend - full of flavo...</td>\n",
       "    </tr>\n",
       "    <tr>\n",
       "      <th>7</th>\n",
       "      <td>4</td>\n",
       "      <td>This is the only sweet and sour sauce out of t...</td>\n",
       "    </tr>\n",
       "    <tr>\n",
       "      <th>8</th>\n",
       "      <td>5</td>\n",
       "      <td>This is a wonderful kit. They ferment out quic...</td>\n",
       "    </tr>\n",
       "    <tr>\n",
       "      <th>9</th>\n",
       "      <td>5</td>\n",
       "      <td>This is my first amazon review - I had to writ...</td>\n",
       "    </tr>\n",
       "    <tr>\n",
       "      <th>10</th>\n",
       "      <td>4</td>\n",
       "      <td>Good stuff, but I wish jelly belly put more ef...</td>\n",
       "    </tr>\n",
       "    <tr>\n",
       "      <th>11</th>\n",
       "      <td>5</td>\n",
       "      <td>Newman's treats make my dog smile. She loves t...</td>\n",
       "    </tr>\n",
       "    <tr>\n",
       "      <th>12</th>\n",
       "      <td>5</td>\n",
       "      <td>Service was super and the product is yummy  I ...</td>\n",
       "    </tr>\n",
       "    <tr>\n",
       "      <th>13</th>\n",
       "      <td>5</td>\n",
       "      <td>I got these at the suggestion of a friend.  Gl...</td>\n",
       "    </tr>\n",
       "    <tr>\n",
       "      <th>14</th>\n",
       "      <td>5</td>\n",
       "      <td>I want to get the cats away from the the grain...</td>\n",
       "    </tr>\n",
       "    <tr>\n",
       "      <th>15</th>\n",
       "      <td>4</td>\n",
       "      <td>I don't know what it is about Apple Jacks. The...</td>\n",
       "    </tr>\n",
       "    <tr>\n",
       "      <th>16</th>\n",
       "      <td>5</td>\n",
       "      <td>We use it at night to lower diabetes sugar and...</td>\n",
       "    </tr>\n",
       "    <tr>\n",
       "      <th>17</th>\n",
       "      <td>5</td>\n",
       "      <td>My Sheltie Abbie is very fussy. she will not e...</td>\n",
       "    </tr>\n",
       "    <tr>\n",
       "      <th>18</th>\n",
       "      <td>2</td>\n",
       "      <td>I got these as a gift for my mom, who is an av...</td>\n",
       "    </tr>\n",
       "    <tr>\n",
       "      <th>19</th>\n",
       "      <td>1</td>\n",
       "      <td>Well I ordered this because I could no longer ...</td>\n",
       "    </tr>\n",
       "  </tbody>\n",
       "</table>\n",
       "</div>"
      ],
      "text/plain": [
       "    Score                                               Text\n",
       "0       1  We have now gone through 4 formulas, and here ...\n",
       "1       5  My miniature Schnauzer absolutely loves these ...\n",
       "2       5  I use it to help jump start my weight loss reg...\n",
       "3       5  Used to use clumping cheap litter for our 4 mo...\n",
       "4       5  These supposedly have some of the highest leve...\n",
       "5       1  There is nothing special or unique about this ...\n",
       "6       5  Caribou is a nice coffee blend - full of flavo...\n",
       "7       4  This is the only sweet and sour sauce out of t...\n",
       "8       5  This is a wonderful kit. They ferment out quic...\n",
       "9       5  This is my first amazon review - I had to writ...\n",
       "10      4  Good stuff, but I wish jelly belly put more ef...\n",
       "11      5  Newman's treats make my dog smile. She loves t...\n",
       "12      5  Service was super and the product is yummy  I ...\n",
       "13      5  I got these at the suggestion of a friend.  Gl...\n",
       "14      5  I want to get the cats away from the the grain...\n",
       "15      4  I don't know what it is about Apple Jacks. The...\n",
       "16      5  We use it at night to lower diabetes sugar and...\n",
       "17      5  My Sheltie Abbie is very fussy. she will not e...\n",
       "18      2  I got these as a gift for my mom, who is an av...\n",
       "19      1  Well I ordered this because I could no longer ..."
      ]
     },
     "execution_count": 22,
     "metadata": {},
     "output_type": "execute_result"
    }
   ],
   "source": [
    "df= pd.read_csv(r'C:\\Users\\sunan\\Desktop\\Projects\\Sentiment analysis(chunks)\\Sentiment_V3\\Foodreviews.csv')  \n",
    "df.head(20)"
   ]
  },
  {
   "cell_type": "code",
   "execution_count": 23,
   "metadata": {},
   "outputs": [
    {
     "data": {
      "text/plain": [
       "(386893, 2)"
      ]
     },
     "execution_count": 23,
     "metadata": {},
     "output_type": "execute_result"
    }
   ],
   "source": [
    "df.shape"
   ]
  },
  {
   "cell_type": "markdown",
   "metadata": {},
   "source": [
    "### Divide the data into chunks"
   ]
  },
  {
   "cell_type": "code",
   "execution_count": 24,
   "metadata": {},
   "outputs": [],
   "source": [
    "chunk_size = 50000\n",
    "batch_no = 1 "
   ]
  },
  {
   "cell_type": "code",
   "execution_count": 25,
   "metadata": {},
   "outputs": [],
   "source": [
    "for chunk in pd.read_csv(r'C:\\Users\\sunan\\Desktop\\Projects\\Sentiment analysis(chunks)\\Sentiment_V3\\Foodreviews.csv', chunksize = chunk_size):\n",
    "    chunk.to_csv('Foodreviews_Amazon' + str(batch_no) + '.csv', index=False)\n",
    "    batch_no +=1"
   ]
  },
  {
   "cell_type": "markdown",
   "metadata": {},
   "source": [
    "#### Divided into 8 different datasets"
   ]
  },
  {
   "cell_type": "markdown",
   "metadata": {},
   "source": [
    "### Dataset 1"
   ]
  },
  {
   "cell_type": "code",
   "execution_count": 19,
   "metadata": {},
   "outputs": [
    {
     "data": {
      "text/html": [
       "<div>\n",
       "<style scoped>\n",
       "    .dataframe tbody tr th:only-of-type {\n",
       "        vertical-align: middle;\n",
       "    }\n",
       "\n",
       "    .dataframe tbody tr th {\n",
       "        vertical-align: top;\n",
       "    }\n",
       "\n",
       "    .dataframe thead th {\n",
       "        text-align: right;\n",
       "    }\n",
       "</style>\n",
       "<table border=\"1\" class=\"dataframe\">\n",
       "  <thead>\n",
       "    <tr style=\"text-align: right;\">\n",
       "      <th></th>\n",
       "      <th>Score</th>\n",
       "      <th>Text</th>\n",
       "    </tr>\n",
       "  </thead>\n",
       "  <tbody>\n",
       "    <tr>\n",
       "      <th>0</th>\n",
       "      <td>1</td>\n",
       "      <td>We have now gone through 4 formulas, and here ...</td>\n",
       "    </tr>\n",
       "    <tr>\n",
       "      <th>1</th>\n",
       "      <td>5</td>\n",
       "      <td>My miniature Schnauzer absolutely loves these ...</td>\n",
       "    </tr>\n",
       "    <tr>\n",
       "      <th>2</th>\n",
       "      <td>5</td>\n",
       "      <td>I use it to help jump start my weight loss reg...</td>\n",
       "    </tr>\n",
       "    <tr>\n",
       "      <th>3</th>\n",
       "      <td>5</td>\n",
       "      <td>Used to use clumping cheap litter for our 4 mo...</td>\n",
       "    </tr>\n",
       "    <tr>\n",
       "      <th>4</th>\n",
       "      <td>5</td>\n",
       "      <td>These supposedly have some of the highest leve...</td>\n",
       "    </tr>\n",
       "  </tbody>\n",
       "</table>\n",
       "</div>"
      ],
      "text/plain": [
       "   Score                                               Text\n",
       "0      1  We have now gone through 4 formulas, and here ...\n",
       "1      5  My miniature Schnauzer absolutely loves these ...\n",
       "2      5  I use it to help jump start my weight loss reg...\n",
       "3      5  Used to use clumping cheap litter for our 4 mo...\n",
       "4      5  These supposedly have some of the highest leve..."
      ]
     },
     "execution_count": 19,
     "metadata": {},
     "output_type": "execute_result"
    }
   ],
   "source": [
    "df1= pd.read_csv(r'C:\\Users\\sunan\\Desktop\\Projects\\Sentiment analysis(chunks)\\Sentiment_V3\\Foodreviews_Amazon1.csv')  \n",
    "df1.head()"
   ]
  },
  {
   "cell_type": "code",
   "execution_count": 20,
   "metadata": {},
   "outputs": [
    {
     "data": {
      "text/plain": [
       "<AxesSubplot:xlabel='Score', ylabel='count'>"
      ]
     },
     "execution_count": 20,
     "metadata": {},
     "output_type": "execute_result"
    },
    {
     "data": {
      "image/png": "[encoded data removed]",
      "text/plain": [
       "<Figure size 432x288 with 1 Axes>"
      ]
     },
     "metadata": {
      "needs_background": "light"
     },
     "output_type": "display_data"
    }
   ],
   "source": [
    "sns.countplot(x = 'Score', data = df1)"
   ]
  },
  {
   "cell_type": "code",
   "execution_count": 21,
   "metadata": {},
   "outputs": [
    {
     "data": {
      "text/html": [
       "<div>\n",
       "<style scoped>\n",
       "    .dataframe tbody tr th:only-of-type {\n",
       "        vertical-align: middle;\n",
       "    }\n",
       "\n",
       "    .dataframe tbody tr th {\n",
       "        vertical-align: top;\n",
       "    }\n",
       "\n",
       "    .dataframe thead th {\n",
       "        text-align: right;\n",
       "    }\n",
       "</style>\n",
       "<table border=\"1\" class=\"dataframe\">\n",
       "  <thead>\n",
       "    <tr style=\"text-align: right;\">\n",
       "      <th></th>\n",
       "      <th>Score</th>\n",
       "      <th>Text</th>\n",
       "    </tr>\n",
       "  </thead>\n",
       "  <tbody>\n",
       "    <tr>\n",
       "      <th>48423</th>\n",
       "      <td>5</td>\n",
       "      <td>My cats love these treats and they're good for...</td>\n",
       "    </tr>\n",
       "    <tr>\n",
       "      <th>28857</th>\n",
       "      <td>1</td>\n",
       "      <td>Does not taste good.  Only meant for smoothies...</td>\n",
       "    </tr>\n",
       "    <tr>\n",
       "      <th>18494</th>\n",
       "      <td>4</td>\n",
       "      <td>I am a mixer at heart. I love my oatmeal every...</td>\n",
       "    </tr>\n",
       "    <tr>\n",
       "      <th>8376</th>\n",
       "      <td>5</td>\n",
       "      <td>I have a Bengal cat and was looking for a good...</td>\n",
       "    </tr>\n",
       "    <tr>\n",
       "      <th>33147</th>\n",
       "      <td>3</td>\n",
       "      <td>I went out on a limb trying Blue Diamond Almon...</td>\n",
       "    </tr>\n",
       "    <tr>\n",
       "      <th>21722</th>\n",
       "      <td>4</td>\n",
       "      <td>This tea is very tasty, so much better than bo...</td>\n",
       "    </tr>\n",
       "    <tr>\n",
       "      <th>44863</th>\n",
       "      <td>2</td>\n",
       "      <td>While Earth's Best produces great organic prod...</td>\n",
       "    </tr>\n",
       "    <tr>\n",
       "      <th>33351</th>\n",
       "      <td>5</td>\n",
       "      <td>Once you use pure Madagascar bourbon vanilla i...</td>\n",
       "    </tr>\n",
       "    <tr>\n",
       "      <th>3735</th>\n",
       "      <td>5</td>\n",
       "      <td>Before trying pill pockets, we used to shove a...</td>\n",
       "    </tr>\n",
       "    <tr>\n",
       "      <th>3722</th>\n",
       "      <td>3</td>\n",
       "      <td>A little bit of hulls can be found in product,...</td>\n",
       "    </tr>\n",
       "  </tbody>\n",
       "</table>\n",
       "</div>"
      ],
      "text/plain": [
       "       Score                                               Text\n",
       "48423      5  My cats love these treats and they're good for...\n",
       "28857      1  Does not taste good.  Only meant for smoothies...\n",
       "18494      4  I am a mixer at heart. I love my oatmeal every...\n",
       "8376       5  I have a Bengal cat and was looking for a good...\n",
       "33147      3  I went out on a limb trying Blue Diamond Almon...\n",
       "21722      4  This tea is very tasty, so much better than bo...\n",
       "44863      2  While Earth's Best produces great organic prod...\n",
       "33351      5  Once you use pure Madagascar bourbon vanilla i...\n",
       "3735       5  Before trying pill pockets, we used to shove a...\n",
       "3722       3  A little bit of hulls can be found in product,..."
      ]
     },
     "execution_count": 21,
     "metadata": {},
     "output_type": "execute_result"
    }
   ],
   "source": [
    "#checking random data from the dataframe\n",
    "\n",
    "import random\n",
    "randomlist = [random.randint(1,len(df1.Text)) for i in range(10)] \n",
    "df1.loc[randomlist,:].head(10)"
   ]
  },
  {
   "cell_type": "code",
   "execution_count": 24,
   "metadata": {},
   "outputs": [
    {
     "data": {
      "text/html": [
       "<div>\n",
       "<style scoped>\n",
       "    .dataframe tbody tr th:only-of-type {\n",
       "        vertical-align: middle;\n",
       "    }\n",
       "\n",
       "    .dataframe tbody tr th {\n",
       "        vertical-align: top;\n",
       "    }\n",
       "\n",
       "    .dataframe thead th {\n",
       "        text-align: right;\n",
       "    }\n",
       "</style>\n",
       "<table border=\"1\" class=\"dataframe\">\n",
       "  <thead>\n",
       "    <tr style=\"text-align: right;\">\n",
       "      <th></th>\n",
       "      <th>Score</th>\n",
       "      <th>Text</th>\n",
       "    </tr>\n",
       "  </thead>\n",
       "  <tbody>\n",
       "    <tr>\n",
       "      <th>0</th>\n",
       "      <td>Negative</td>\n",
       "      <td>Nong Shim, Nong Shim... that's all I hear in t...</td>\n",
       "    </tr>\n",
       "    <tr>\n",
       "      <th>1</th>\n",
       "      <td>Highly Poritive</td>\n",
       "      <td>This juice is very good for a lot of different...</td>\n",
       "    </tr>\n",
       "    <tr>\n",
       "      <th>2</th>\n",
       "      <td>Negative</td>\n",
       "      <td>I have always loved just about any product tha...</td>\n",
       "    </tr>\n",
       "    <tr>\n",
       "      <th>3</th>\n",
       "      <td>Highly Poritive</td>\n",
       "      <td>I tried this and I like it! I find it to be a ...</td>\n",
       "    </tr>\n",
       "    <tr>\n",
       "      <th>4</th>\n",
       "      <td>Neutral</td>\n",
       "      <td>This tea has a strong and very unusual taste a...</td>\n",
       "    </tr>\n",
       "  </tbody>\n",
       "</table>\n",
       "</div>"
      ],
      "text/plain": [
       "             Score                                               Text\n",
       "0         Negative  Nong Shim, Nong Shim... that's all I hear in t...\n",
       "1  Highly Poritive  This juice is very good for a lot of different...\n",
       "2         Negative  I have always loved just about any product tha...\n",
       "3  Highly Poritive  I tried this and I like it! I find it to be a ...\n",
       "4          Neutral  This tea has a strong and very unusual taste a..."
      ]
     },
     "execution_count": 24,
     "metadata": {},
     "output_type": "execute_result"
    }
   ],
   "source": [
    "#Food rating Scores\n",
    "\n",
    "ratings = {1:\"Highly Negative\", 2:\"Negative\", 3:\"Neutral\", 4:\"Positive \", 5:\"Highly Positive\"}\n",
    "def label_decoder(Score):\n",
    "    return ratings[Score]\n",
    "df1.Score = df1.Score.apply(lambda x: label_decoder(x))\n",
    "df1.head()"
   ]
  },
  {
   "cell_type": "code",
   "execution_count": 25,
   "metadata": {},
   "outputs": [],
   "source": [
    "#preprocessing data\n",
    "\n",
    "\n",
    "def data_cleaning(text):\n",
    "    text = str(text).lower()  # convert to lowercase\n",
    "    text = re.sub(pattern=r'\\s+[a-zA-Z]\\s+',repl='',string = text)   # remove single characters\n",
    "    text = re.sub(r'https?://\\S+|www\\.\\S+',repl='',string = text)   # Remove URls, whitespace characters \n",
    "    text = re.sub(r'[^a-z\\s]',' ',string = text)# Removes all the special characters, digits from 0-9 and Capital Letters\n",
    "    text = re.sub(r'\\s+', ' ', string = text)  # Substituting multiple spaces with single space\n",
    "    ps = PorterStemmer()\n",
    "    text = [ps.stem(word) for word in text.split() if not word in set(stopwords.words('english'))]\n",
    "    text = ' '.join(text)\n",
    "    return text"
   ]
  },
  {
   "cell_type": "code",
   "execution_count": 26,
   "metadata": {},
   "outputs": [],
   "source": [
    "df1.Text = df1.Text.apply(lambda x: data_cleaning(x))"
   ]
  },
  {
   "cell_type": "code",
   "execution_count": 29,
   "metadata": {},
   "outputs": [
    {
     "data": {
      "text/html": [
       "<div>\n",
       "<style scoped>\n",
       "    .dataframe tbody tr th:only-of-type {\n",
       "        vertical-align: middle;\n",
       "    }\n",
       "\n",
       "    .dataframe tbody tr th {\n",
       "        vertical-align: top;\n",
       "    }\n",
       "\n",
       "    .dataframe thead th {\n",
       "        text-align: right;\n",
       "    }\n",
       "</style>\n",
       "<table border=\"1\" class=\"dataframe\">\n",
       "  <thead>\n",
       "    <tr style=\"text-align: right;\">\n",
       "      <th></th>\n",
       "      <th>Score</th>\n",
       "      <th>Text</th>\n",
       "    </tr>\n",
       "  </thead>\n",
       "  <tbody>\n",
       "    <tr>\n",
       "      <th>0</th>\n",
       "      <td>1</td>\n",
       "      <td>gone formula conclus br br similac non organ u...</td>\n",
       "    </tr>\n",
       "    <tr>\n",
       "      <th>1</th>\n",
       "      <td>5</td>\n",
       "      <td>miniatur schnauzer absolut love talk treat che...</td>\n",
       "    </tr>\n",
       "    <tr>\n",
       "      <th>2</th>\n",
       "      <td>5</td>\n",
       "      <td>use help jump start weight loss regim sometim ...</td>\n",
       "    </tr>\n",
       "    <tr>\n",
       "      <th>3</th>\n",
       "      <td>5</td>\n",
       "      <td>use use clump cheap litter month old kitti sup...</td>\n",
       "    </tr>\n",
       "    <tr>\n",
       "      <th>4</th>\n",
       "      <td>5</td>\n",
       "      <td>supposedli highest level antioxid food whyboug...</td>\n",
       "    </tr>\n",
       "    <tr>\n",
       "      <th>...</th>\n",
       "      <td>...</td>\n",
       "      <td>...</td>\n",
       "    </tr>\n",
       "    <tr>\n",
       "      <th>49995</th>\n",
       "      <td>5</td>\n",
       "      <td>year old cat never like cat treat triedvarieti...</td>\n",
       "    </tr>\n",
       "    <tr>\n",
       "      <th>49996</th>\n",
       "      <td>2</td>\n",
       "      <td>recommend asseri side dish fornic dinner remin...</td>\n",
       "    </tr>\n",
       "    <tr>\n",
       "      <th>49997</th>\n",
       "      <td>5</td>\n",
       "      <td>tri first one packag crack came frozen ate cra...</td>\n",
       "    </tr>\n",
       "    <tr>\n",
       "      <th>49998</th>\n",
       "      <td>5</td>\n",
       "      <td>daughter love happi find organ snack doesnt su...</td>\n",
       "    </tr>\n",
       "    <tr>\n",
       "      <th>49999</th>\n",
       "      <td>4</td>\n",
       "      <td>breakfast blend green moutain coffe compani fa...</td>\n",
       "    </tr>\n",
       "  </tbody>\n",
       "</table>\n",
       "<p>50000 rows × 2 columns</p>\n",
       "</div>"
      ],
      "text/plain": [
       "       Score                                               Text\n",
       "0          1  gone formula conclus br br similac non organ u...\n",
       "1          5  miniatur schnauzer absolut love talk treat che...\n",
       "2          5  use help jump start weight loss regim sometim ...\n",
       "3          5  use use clump cheap litter month old kitti sup...\n",
       "4          5  supposedli highest level antioxid food whyboug...\n",
       "...      ...                                                ...\n",
       "49995      5  year old cat never like cat treat triedvarieti...\n",
       "49996      2  recommend asseri side dish fornic dinner remin...\n",
       "49997      5  tri first one packag crack came frozen ate cra...\n",
       "49998      5  daughter love happi find organ snack doesnt su...\n",
       "49999      4  breakfast blend green moutain coffe compani fa...\n",
       "\n",
       "[50000 rows x 2 columns]"
      ]
     },
     "execution_count": 29,
     "metadata": {},
     "output_type": "execute_result"
    }
   ],
   "source": [
    "df1"
   ]
  },
  {
   "cell_type": "code",
   "execution_count": 30,
   "metadata": {},
   "outputs": [],
   "source": [
    "max_no_words = 5000\n",
    "max_sequence_length = 30"
   ]
  },
  {
   "cell_type": "code",
   "execution_count": 31,
   "metadata": {},
   "outputs": [
    {
     "name": "stdout",
     "output_type": "stream",
     "text": [
      "Train Data size: 40000\n",
      "Test Data size 10000\n"
     ]
    }
   ],
   "source": [
    "#data Splitting: train, test\n",
    "\n",
    "train_data, test_data = train_test_split(df1, test_size=0.20,random_state=7)\n",
    "print(\"Train Data size:\", len(train_data))\n",
    "print(\"Test Data size\", len(test_data))"
   ]
  },
  {
   "cell_type": "code",
   "execution_count": 32,
   "metadata": {},
   "outputs": [
    {
     "data": {
      "text/html": [
       "<div>\n",
       "<style scoped>\n",
       "    .dataframe tbody tr th:only-of-type {\n",
       "        vertical-align: middle;\n",
       "    }\n",
       "\n",
       "    .dataframe tbody tr th {\n",
       "        vertical-align: top;\n",
       "    }\n",
       "\n",
       "    .dataframe thead th {\n",
       "        text-align: right;\n",
       "    }\n",
       "</style>\n",
       "<table border=\"1\" class=\"dataframe\">\n",
       "  <thead>\n",
       "    <tr style=\"text-align: right;\">\n",
       "      <th></th>\n",
       "      <th>Score</th>\n",
       "      <th>Text</th>\n",
       "    </tr>\n",
       "  </thead>\n",
       "  <tbody>\n",
       "    <tr>\n",
       "      <th>25164</th>\n",
       "      <td>5</td>\n",
       "      <td>emeril big easi bold along timothi french roas...</td>\n",
       "    </tr>\n",
       "    <tr>\n",
       "      <th>37366</th>\n",
       "      <td>5</td>\n",
       "      <td>leftreview product elsewher well purchas regul...</td>\n",
       "    </tr>\n",
       "    <tr>\n",
       "      <th>24912</th>\n",
       "      <td>5</td>\n",
       "      <td>href hanov cheddar chees pretzel piec ounc pac...</td>\n",
       "    </tr>\n",
       "    <tr>\n",
       "      <th>7345</th>\n",
       "      <td>5</td>\n",
       "      <td>look far wide forgluten free crust hand best e...</td>\n",
       "    </tr>\n",
       "    <tr>\n",
       "      <th>28620</th>\n",
       "      <td>3</td>\n",
       "      <td>first onebit tough leather andhad rip teeth ma...</td>\n",
       "    </tr>\n",
       "    <tr>\n",
       "      <th>4267</th>\n",
       "      <td>5</td>\n",
       "      <td>pop corn good everi kernel pop hadveri good ta...</td>\n",
       "    </tr>\n",
       "    <tr>\n",
       "      <th>40891</th>\n",
       "      <td>4</td>\n",
       "      <td>great product babi like product fact contain l...</td>\n",
       "    </tr>\n",
       "    <tr>\n",
       "      <th>26038</th>\n",
       "      <td>5</td>\n",
       "      <td>enjoy product year troubl find local store gla...</td>\n",
       "    </tr>\n",
       "    <tr>\n",
       "      <th>26159</th>\n",
       "      <td>4</td>\n",
       "      <td>good valu money tast fine strength fine cup wo...</td>\n",
       "    </tr>\n",
       "    <tr>\n",
       "      <th>24458</th>\n",
       "      <td>5</td>\n",
       "      <td>love melitta coffe pod makesperfect cup coffe ...</td>\n",
       "    </tr>\n",
       "  </tbody>\n",
       "</table>\n",
       "</div>"
      ],
      "text/plain": [
       "       Score                                               Text\n",
       "25164      5  emeril big easi bold along timothi french roas...\n",
       "37366      5  leftreview product elsewher well purchas regul...\n",
       "24912      5  href hanov cheddar chees pretzel piec ounc pac...\n",
       "7345       5  look far wide forgluten free crust hand best e...\n",
       "28620      3  first onebit tough leather andhad rip teeth ma...\n",
       "4267       5  pop corn good everi kernel pop hadveri good ta...\n",
       "40891      4  great product babi like product fact contain l...\n",
       "26038      5  enjoy product year troubl find local store gla...\n",
       "26159      4  good valu money tast fine strength fine cup wo...\n",
       "24458      5  love melitta coffe pod makesperfect cup coffe ..."
      ]
     },
     "execution_count": 32,
     "metadata": {},
     "output_type": "execute_result"
    }
   ],
   "source": [
    "train_data.head(10)"
   ]
  },
  {
   "cell_type": "code",
   "execution_count": 33,
   "metadata": {},
   "outputs": [
    {
     "name": "stdout",
     "output_type": "stream",
     "text": [
      "Vocabulary Size : 64329\n"
     ]
    }
   ],
   "source": [
    "tokenizer = Tokenizer()\n",
    "tokenizer.fit_on_texts(train_data.Text)\n",
    "\n",
    "word_index = tokenizer.word_index\n",
    "vocab_size = len(tokenizer.word_index) + 1\n",
    "print(\"Vocabulary Size :\", vocab_size)"
   ]
  },
  {
   "cell_type": "code",
   "execution_count": 34,
   "metadata": {},
   "outputs": [
    {
     "name": "stdout",
     "output_type": "stream",
     "text": [
      "Training X Shape: (40000, 30)\n",
      "Testing X Shape: (10000, 30)\n"
     ]
    }
   ],
   "source": [
    "x_train = pad_sequences(tokenizer.texts_to_sequences(train_data.Text),\n",
    "                        maxlen = max_sequence_length)\n",
    "x_test = pad_sequences(tokenizer.texts_to_sequences(test_data.Text),\n",
    "                       maxlen = max_sequence_length)\n",
    "\n",
    "print(\"Training X Shape:\",x_train.shape)\n",
    "print(\"Testing X Shape:\",x_test.shape)"
   ]
  },
  {
   "cell_type": "code",
   "execution_count": 35,
   "metadata": {},
   "outputs": [
    {
     "data": {
      "text/plain": [
       "[5, 3, 4, 1, 2]"
      ]
     },
     "execution_count": 35,
     "metadata": {},
     "output_type": "execute_result"
    }
   ],
   "source": [
    "train_data.Score.unique().tolist()"
   ]
  },
  {
   "cell_type": "code",
   "execution_count": 36,
   "metadata": {},
   "outputs": [
    {
     "data": {
      "text/plain": [
       "LabelEncoder()"
      ]
     },
     "execution_count": 36,
     "metadata": {},
     "output_type": "execute_result"
    }
   ],
   "source": [
    "from sklearn.preprocessing import LabelEncoder\n",
    "encoder = LabelEncoder()\n",
    "encoder.fit(train_data.Score.to_list())"
   ]
  },
  {
   "cell_type": "code",
   "execution_count": 37,
   "metadata": {},
   "outputs": [],
   "source": [
    "y_train = encoder.transform(train_data.Score.to_list())\n",
    "y_test = encoder.transform(test_data.Score.to_list())"
   ]
  },
  {
   "cell_type": "code",
   "execution_count": 38,
   "metadata": {},
   "outputs": [
    {
     "name": "stdout",
     "output_type": "stream",
     "text": [
      "y_train shape: (40000, 1)\n",
      "y_test shape: (10000, 1)\n"
     ]
    }
   ],
   "source": [
    "y_train = y_train.reshape(-1,1)\n",
    "y_test = y_test.reshape(-1,1)\n",
    "\n",
    "print(\"y_train shape:\", y_train.shape)\n",
    "print(\"y_test shape:\", y_test.shape)"
   ]
  },
  {
   "cell_type": "code",
   "execution_count": 39,
   "metadata": {},
   "outputs": [],
   "source": [
    "## Embedding Layer"
   ]
  },
  {
   "cell_type": "code",
   "execution_count": 40,
   "metadata": {},
   "outputs": [],
   "source": [
    "glv_emb = open(r'C:\\Users\\sunan\\Desktop\\Projects\\Sentiment analysis(chunks)\\Amazon Food Review Analysis\\Glove Embedding\\glove.6B.100d.txt', encoding='utf8')"
   ]
  },
  {
   "cell_type": "code",
   "execution_count": 48,
   "metadata": {},
   "outputs": [],
   "source": [
    "LR = 1e-3\n",
    "EMBEDDING_DIM = 100\n",
    "BATCH_SIZE = 128\n",
    "EPOCHS = 10"
   ]
  },
  {
   "cell_type": "code",
   "execution_count": 42,
   "metadata": {},
   "outputs": [
    {
     "name": "stdout",
     "output_type": "stream",
     "text": [
      "Found 400000 word vectors.\n"
     ]
    }
   ],
   "source": [
    "embeddings_index = {}\n",
    "\n",
    "for line in glv_emb:\n",
    "    values = line.split()\n",
    "    word = value = values[0]\n",
    "    coefs = np.asarray(values[1:], dtype='float32')\n",
    "    embeddings_index[word] = coefs\n",
    "        \n",
    "glv_emb.close()\n",
    "\n",
    "print('Found %s word vectors.' %len(embeddings_index))"
   ]
  },
  {
   "cell_type": "code",
   "execution_count": 43,
   "metadata": {},
   "outputs": [],
   "source": [
    "embedding_matrix = np.zeros((vocab_size, EMBEDDING_DIM))\n",
    "for word, i in word_index.items():\n",
    "    embedding_vector = embeddings_index.get(word)\n",
    "    if embedding_vector is not None:\n",
    "        embedding_matrix[i] = embedding_vector"
   ]
  },
  {
   "cell_type": "code",
   "execution_count": 44,
   "metadata": {},
   "outputs": [],
   "source": [
    "import tensorflow as tf\n",
    "embedding_layer = tf.keras.layers.Embedding(vocab_size,\n",
    "                                          EMBEDDING_DIM,\n",
    "                                          weights=[embedding_matrix],\n",
    "                                          input_length=max_sequence_length,\n",
    "                                          trainable=False)"
   ]
  },
  {
   "cell_type": "code",
   "execution_count": 45,
   "metadata": {},
   "outputs": [],
   "source": [
    "model = Sequential()\n",
    "model.add(embedding_layer)\n",
    "model.add(LSTM(128))\n",
    "model.add(Flatten())\n",
    "model.add(Dense(128, activation= 'relu'))\n",
    "model.add(Dense(1, activation = 'sigmoid'))"
   ]
  },
  {
   "cell_type": "code",
   "execution_count": 46,
   "metadata": {},
   "outputs": [],
   "source": [
    "model.compile(optimizer = 'Adam', loss = 'binary_crossentropy', metrics = ['accuracy'])"
   ]
  },
  {
   "cell_type": "code",
   "execution_count": 47,
   "metadata": {},
   "outputs": [
    {
     "name": "stdout",
     "output_type": "stream",
     "text": [
      "Model: \"sequential\"\n",
      "_________________________________________________________________\n",
      " Layer (type)                Output Shape              Param #   \n",
      "=================================================================\n",
      " embedding (Embedding)       (None, 30, 100)           6432900   \n",
      "                                                                 \n",
      " lstm (LSTM)                 (None, 128)               117248    \n",
      "                                                                 \n",
      " flatten (Flatten)           (None, 128)               0         \n",
      "                                                                 \n",
      " dense (Dense)               (None, 128)               16512     \n",
      "                                                                 \n",
      " dense_1 (Dense)             (None, 1)                 129       \n",
      "                                                                 \n",
      "=================================================================\n",
      "Total params: 6,566,789\n",
      "Trainable params: 133,889\n",
      "Non-trainable params: 6,432,900\n",
      "_________________________________________________________________\n"
     ]
    }
   ],
   "source": [
    "model.summary()"
   ]
  },
  {
   "cell_type": "code",
   "execution_count": 49,
   "metadata": {},
   "outputs": [
    {
     "name": "stdout",
     "output_type": "stream",
     "text": [
      "Epoch 1/10\n",
      "313/313 [==============================] - 36s 109ms/step - loss: -1332.9939 - accuracy: 0.0766 - val_loss: -3955.4968 - val_accuracy: 0.0806\n",
      "Epoch 2/10\n",
      "313/313 [==============================] - 34s 109ms/step - loss: -9127.6289 - accuracy: 0.0767 - val_loss: -15517.6885 - val_accuracy: 0.0806\n",
      "Epoch 3/10\n",
      "313/313 [==============================] - 34s 108ms/step - loss: -24287.6270 - accuracy: 0.0767 - val_loss: -34072.4688 - val_accuracy: 0.0806\n",
      "Epoch 4/10\n",
      "313/313 [==============================] - 34s 109ms/step - loss: -46099.1602 - accuracy: 0.0767 - val_loss: -58938.4258 - val_accuracy: 0.0806\n",
      "Epoch 5/10\n",
      "313/313 [==============================] - 34s 110ms/step - loss: -73905.5469 - accuracy: 0.0767 - val_loss: -89446.2656 - val_accuracy: 0.0806\n",
      "Epoch 6/10\n",
      "313/313 [==============================] - 35s 113ms/step - loss: -107169.2500 - accuracy: 0.0767 - val_loss: -125190.0703 - val_accuracy: 0.0806\n",
      "Epoch 7/10\n",
      "313/313 [==============================] - 37s 117ms/step - loss: -145466.2344 - accuracy: 0.0767 - val_loss: -165764.1406 - val_accuracy: 0.0806\n",
      "Epoch 8/10\n",
      "313/313 [==============================] - 37s 118ms/step - loss: -188462.9688 - accuracy: 0.0767 - val_loss: -210849.5156 - val_accuracy: 0.0806\n",
      "Epoch 9/10\n",
      "313/313 [==============================] - 37s 118ms/step - loss: -235884.7188 - accuracy: 0.0767 - val_loss: -260195.5312 - val_accuracy: 0.0806\n",
      "Epoch 10/10\n",
      "313/313 [==============================] - 37s 118ms/step - loss: -287469.8125 - accuracy: 0.0767 - val_loss: -313674.0000 - val_accuracy: 0.0806\n"
     ]
    }
   ],
   "source": [
    "history = model.fit(x_train, y_train, batch_size=BATCH_SIZE, epochs=EPOCHS, validation_data=(x_test, y_test), verbose=1)"
   ]
  },
  {
   "cell_type": "markdown",
   "metadata": {},
   "source": [
    "## Dataset 2"
   ]
  },
  {
   "cell_type": "code",
   "execution_count": 50,
   "metadata": {},
   "outputs": [
    {
     "data": {
      "text/html": [
       "<div>\n",
       "<style scoped>\n",
       "    .dataframe tbody tr th:only-of-type {\n",
       "        vertical-align: middle;\n",
       "    }\n",
       "\n",
       "    .dataframe tbody tr th {\n",
       "        vertical-align: top;\n",
       "    }\n",
       "\n",
       "    .dataframe thead th {\n",
       "        text-align: right;\n",
       "    }\n",
       "</style>\n",
       "<table border=\"1\" class=\"dataframe\">\n",
       "  <thead>\n",
       "    <tr style=\"text-align: right;\">\n",
       "      <th></th>\n",
       "      <th>Score</th>\n",
       "      <th>Text</th>\n",
       "    </tr>\n",
       "  </thead>\n",
       "  <tbody>\n",
       "    <tr>\n",
       "      <th>0</th>\n",
       "      <td>5</td>\n",
       "      <td>I agree that this product may cost more from A...</td>\n",
       "    </tr>\n",
       "    <tr>\n",
       "      <th>1</th>\n",
       "      <td>5</td>\n",
       "      <td>Great dog food shipped to my door monthly. My ...</td>\n",
       "    </tr>\n",
       "    <tr>\n",
       "      <th>2</th>\n",
       "      <td>2</td>\n",
       "      <td>I purchased this at a great price from Amazon....</td>\n",
       "    </tr>\n",
       "    <tr>\n",
       "      <th>3</th>\n",
       "      <td>5</td>\n",
       "      <td>My dogs love this stuff.  You feed less food t...</td>\n",
       "    </tr>\n",
       "    <tr>\n",
       "      <th>4</th>\n",
       "      <td>5</td>\n",
       "      <td>I'll admit outright that I don't normally like...</td>\n",
       "    </tr>\n",
       "  </tbody>\n",
       "</table>\n",
       "</div>"
      ],
      "text/plain": [
       "   Score                                               Text\n",
       "0      5  I agree that this product may cost more from A...\n",
       "1      5  Great dog food shipped to my door monthly. My ...\n",
       "2      2  I purchased this at a great price from Amazon....\n",
       "3      5  My dogs love this stuff.  You feed less food t...\n",
       "4      5  I'll admit outright that I don't normally like..."
      ]
     },
     "execution_count": 50,
     "metadata": {},
     "output_type": "execute_result"
    }
   ],
   "source": [
    "df2= pd.read_csv(r'C:\\Users\\sunan\\Desktop\\Projects\\Sentiment analysis(chunks)\\Sentiment_V3\\Foodreviews_Amazon2.csv')  \n",
    "df2.head()"
   ]
  },
  {
   "cell_type": "code",
   "execution_count": 51,
   "metadata": {},
   "outputs": [
    {
     "data": {
      "text/plain": [
       "<AxesSubplot:xlabel='Score', ylabel='count'>"
      ]
     },
     "execution_count": 51,
     "metadata": {},
     "output_type": "execute_result"
    },
    {
     "data": {
      "image/png": "[encoded data removed]",
      "text/plain": [
       "<Figure size 432x288 with 1 Axes>"
      ]
     },
     "metadata": {
      "needs_background": "light"
     },
     "output_type": "display_data"
    }
   ],
   "source": [
    "sns.countplot(x = 'Score', data = df2)"
   ]
  },
  {
   "cell_type": "code",
   "execution_count": 52,
   "metadata": {},
   "outputs": [
    {
     "data": {
      "text/html": [
       "<div>\n",
       "<style scoped>\n",
       "    .dataframe tbody tr th:only-of-type {\n",
       "        vertical-align: middle;\n",
       "    }\n",
       "\n",
       "    .dataframe tbody tr th {\n",
       "        vertical-align: top;\n",
       "    }\n",
       "\n",
       "    .dataframe thead th {\n",
       "        text-align: right;\n",
       "    }\n",
       "</style>\n",
       "<table border=\"1\" class=\"dataframe\">\n",
       "  <thead>\n",
       "    <tr style=\"text-align: right;\">\n",
       "      <th></th>\n",
       "      <th>Score</th>\n",
       "      <th>Text</th>\n",
       "    </tr>\n",
       "  </thead>\n",
       "  <tbody>\n",
       "    <tr>\n",
       "      <th>0</th>\n",
       "      <td>Highly Positive</td>\n",
       "      <td>I agree that this product may cost more from A...</td>\n",
       "    </tr>\n",
       "    <tr>\n",
       "      <th>1</th>\n",
       "      <td>Highly Positive</td>\n",
       "      <td>Great dog food shipped to my door monthly. My ...</td>\n",
       "    </tr>\n",
       "    <tr>\n",
       "      <th>2</th>\n",
       "      <td>Negative</td>\n",
       "      <td>I purchased this at a great price from Amazon....</td>\n",
       "    </tr>\n",
       "    <tr>\n",
       "      <th>3</th>\n",
       "      <td>Highly Positive</td>\n",
       "      <td>My dogs love this stuff.  You feed less food t...</td>\n",
       "    </tr>\n",
       "    <tr>\n",
       "      <th>4</th>\n",
       "      <td>Highly Positive</td>\n",
       "      <td>I'll admit outright that I don't normally like...</td>\n",
       "    </tr>\n",
       "  </tbody>\n",
       "</table>\n",
       "</div>"
      ],
      "text/plain": [
       "             Score                                               Text\n",
       "0  Highly Positive  I agree that this product may cost more from A...\n",
       "1  Highly Positive  Great dog food shipped to my door monthly. My ...\n",
       "2         Negative  I purchased this at a great price from Amazon....\n",
       "3  Highly Positive  My dogs love this stuff.  You feed less food t...\n",
       "4  Highly Positive  I'll admit outright that I don't normally like..."
      ]
     },
     "execution_count": 52,
     "metadata": {},
     "output_type": "execute_result"
    }
   ],
   "source": [
    "#Food rating Scores\n",
    "\n",
    "ratings = {1:\"Highly Negative\", 2:\"Negative\", 3:\"Neutral\", 4:\"Positive \", 5:\"Highly Positive\"}\n",
    "def label_decoder(Score):\n",
    "    return ratings[Score]\n",
    "df2.Score = df2.Score.apply(lambda x: label_decoder(x))\n",
    "df2.head()"
   ]
  },
  {
   "cell_type": "code",
   "execution_count": 53,
   "metadata": {},
   "outputs": [],
   "source": [
    "#preprocessing data\n",
    "\n",
    "\n",
    "def data_cleaning(text):\n",
    "    text = str(text).lower()  # convert to lowercase\n",
    "    text = re.sub(pattern=r'\\s+[a-zA-Z]\\s+',repl='',string = text)   # remove single characters\n",
    "    text = re.sub(r'https?://\\S+|www\\.\\S+',repl='',string = text)   # Remove URls, whitespace characters \n",
    "    text = re.sub(r'[^a-z\\s]',' ',string = text)# Removes all the special characters, digits from 0-9 and Capital Letters\n",
    "    text = re.sub(r'\\s+', ' ', string = text)  # Substituting multiple spaces with single space\n",
    "    ps = PorterStemmer()\n",
    "    text = [ps.stem(word) for word in text.split() if not word in set(stopwords.words('english'))]\n",
    "    text = ' '.join(text)\n",
    "    return text"
   ]
  },
  {
   "cell_type": "code",
   "execution_count": 54,
   "metadata": {},
   "outputs": [],
   "source": [
    "df2.Text = df2.Text.apply(lambda x: data_cleaning(x))"
   ]
  },
  {
   "cell_type": "code",
   "execution_count": 55,
   "metadata": {},
   "outputs": [
    {
     "data": {
      "text/html": [
       "<div>\n",
       "<style scoped>\n",
       "    .dataframe tbody tr th:only-of-type {\n",
       "        vertical-align: middle;\n",
       "    }\n",
       "\n",
       "    .dataframe tbody tr th {\n",
       "        vertical-align: top;\n",
       "    }\n",
       "\n",
       "    .dataframe thead th {\n",
       "        text-align: right;\n",
       "    }\n",
       "</style>\n",
       "<table border=\"1\" class=\"dataframe\">\n",
       "  <thead>\n",
       "    <tr style=\"text-align: right;\">\n",
       "      <th></th>\n",
       "      <th>Score</th>\n",
       "      <th>Text</th>\n",
       "    </tr>\n",
       "  </thead>\n",
       "  <tbody>\n",
       "    <tr>\n",
       "      <th>0</th>\n",
       "      <td>Highly Positive</td>\n",
       "      <td>agre product may cost amazon notdeal breaker r...</td>\n",
       "    </tr>\n",
       "    <tr>\n",
       "      <th>1</th>\n",
       "      <td>Highly Positive</td>\n",
       "      <td>great dog food ship door monthli boxer enjoy f...</td>\n",
       "    </tr>\n",
       "    <tr>\n",
       "      <th>2</th>\n",
       "      <td>Negative</td>\n",
       "      <td>purchas atgreat price amazon pleas flavor budd...</td>\n",
       "    </tr>\n",
       "    <tr>\n",
       "      <th>3</th>\n",
       "      <td>Highly Positive</td>\n",
       "      <td>dog love stuff feed less food thu pick less po...</td>\n",
       "    </tr>\n",
       "    <tr>\n",
       "      <th>4</th>\n",
       "      <td>Highly Positive</td>\n",
       "      <td>admit outright thatdon normal like coffe mbig ...</td>\n",
       "    </tr>\n",
       "    <tr>\n",
       "      <th>...</th>\n",
       "      <td>...</td>\n",
       "      <td>...</td>\n",
       "    </tr>\n",
       "    <tr>\n",
       "      <th>49995</th>\n",
       "      <td>Highly Positive</td>\n",
       "      <td>like flavor ginger candi good help nausea tast...</td>\n",
       "    </tr>\n",
       "    <tr>\n",
       "      <th>49996</th>\n",
       "      <td>Positive</td>\n",
       "      <td>tast almost bile like nearli intoler howev giv...</td>\n",
       "    </tr>\n",
       "    <tr>\n",
       "      <th>49997</th>\n",
       "      <td>Neutral</td>\n",
       "      <td>cytosport energi drink ishelp sport supplement...</td>\n",
       "    </tr>\n",
       "    <tr>\n",
       "      <th>49998</th>\n",
       "      <td>Highly Negative</td>\n",
       "      <td>receiv shipment found seed onehad live whole f...</td>\n",
       "    </tr>\n",
       "    <tr>\n",
       "      <th>49999</th>\n",
       "      <td>Positive</td>\n",
       "      <td>lab excit getnew toy mani said ate treat end i...</td>\n",
       "    </tr>\n",
       "  </tbody>\n",
       "</table>\n",
       "<p>50000 rows × 2 columns</p>\n",
       "</div>"
      ],
      "text/plain": [
       "                 Score                                               Text\n",
       "0      Highly Positive  agre product may cost amazon notdeal breaker r...\n",
       "1      Highly Positive  great dog food ship door monthli boxer enjoy f...\n",
       "2             Negative  purchas atgreat price amazon pleas flavor budd...\n",
       "3      Highly Positive  dog love stuff feed less food thu pick less po...\n",
       "4      Highly Positive  admit outright thatdon normal like coffe mbig ...\n",
       "...                ...                                                ...\n",
       "49995  Highly Positive  like flavor ginger candi good help nausea tast...\n",
       "49996        Positive   tast almost bile like nearli intoler howev giv...\n",
       "49997          Neutral  cytosport energi drink ishelp sport supplement...\n",
       "49998  Highly Negative  receiv shipment found seed onehad live whole f...\n",
       "49999        Positive   lab excit getnew toy mani said ate treat end i...\n",
       "\n",
       "[50000 rows x 2 columns]"
      ]
     },
     "execution_count": 55,
     "metadata": {},
     "output_type": "execute_result"
    }
   ],
   "source": [
    "df2"
   ]
  },
  {
   "cell_type": "code",
   "execution_count": 56,
   "metadata": {},
   "outputs": [
    {
     "name": "stdout",
     "output_type": "stream",
     "text": [
      "Train Data size: 40000\n",
      "Test Data size 10000\n",
      "Vocabulary Size : 64329\n",
      "Training X Shape: (40000, 30)\n",
      "Testing X Shape: (10000, 30)\n",
      "y_train shape: (40000, 1)\n",
      "y_test shape: (10000, 1)\n",
      "Found 400000 word vectors.\n",
      "Model: \"sequential_1\"\n",
      "_________________________________________________________________\n",
      " Layer (type)                Output Shape              Param #   \n",
      "=================================================================\n",
      " embedding_1 (Embedding)     (None, 30, 100)           6432900   \n",
      "                                                                 \n",
      " lstm_1 (LSTM)               (None, 128)               117248    \n",
      "                                                                 \n",
      " flatten_1 (Flatten)         (None, 128)               0         \n",
      "                                                                 \n",
      " dense_2 (Dense)             (None, 128)               16512     \n",
      "                                                                 \n",
      " dense_3 (Dense)             (None, 1)                 129       \n",
      "                                                                 \n",
      "=================================================================\n",
      "Total params: 6,566,789\n",
      "Trainable params: 133,889\n",
      "Non-trainable params: 6,432,900\n",
      "_________________________________________________________________\n",
      "Epoch 1/10\n",
      "313/313 [==============================] - 35s 105ms/step - loss: -1485.9330 - accuracy: 0.0771 - val_loss: -4347.0933 - val_accuracy: 0.0806\n",
      "Epoch 2/10\n",
      "313/313 [==============================] - 33s 105ms/step - loss: -9986.8447 - accuracy: 0.0767 - val_loss: -16965.0215 - val_accuracy: 0.0806\n",
      "Epoch 3/10\n",
      "313/313 [==============================] - 33s 107ms/step - loss: -26539.8633 - accuracy: 0.0767 - val_loss: -37238.2109 - val_accuracy: 0.0806\n",
      "Epoch 4/10\n",
      "313/313 [==============================] - 33s 106ms/step - loss: -50368.1797 - accuracy: 0.0767 - val_loss: -64365.2930 - val_accuracy: 0.0806\n",
      "Epoch 5/10\n",
      "313/313 [==============================] - 35s 113ms/step - loss: -80715.3828 - accuracy: 0.0767 - val_loss: -97649.1719 - val_accuracy: 0.0806\n",
      "Epoch 6/10\n",
      "313/313 [==============================] - 35s 113ms/step - loss: -116992.3750 - accuracy: 0.0767 - val_loss: -136631.3281 - val_accuracy: 0.0806\n",
      "Epoch 7/10\n",
      "313/313 [==============================] - 36s 116ms/step - loss: -158775.1094 - accuracy: 0.0767 - val_loss: -180912.1250 - val_accuracy: 0.0806\n",
      "Epoch 8/10\n",
      "313/313 [==============================] - 37s 117ms/step - loss: -205691.8594 - accuracy: 0.0767 - val_loss: -230133.5312 - val_accuracy: 0.0806\n",
      "Epoch 9/10\n",
      "313/313 [==============================] - 37s 118ms/step - loss: -257401.9844 - accuracy: 0.0767 - val_loss: -283983.3125 - val_accuracy: 0.0806\n",
      "Epoch 10/10\n",
      "313/313 [==============================] - 37s 117ms/step - loss: -313665.4688 - accuracy: 0.0767 - val_loss: -342266.4062 - val_accuracy: 0.0806\n"
     ]
    }
   ],
   "source": [
    "#data Splitting: train, test\n",
    "\n",
    "train_data, test_data = train_test_split(df2, test_size=0.20,random_state=7)\n",
    "print(\"Train Data size:\", len(train_data))\n",
    "print(\"Test Data size\", len(test_data))\n",
    "\n",
    "train_data.head(10)\n",
    "\n",
    "tokenizer = Tokenizer()\n",
    "tokenizer.fit_on_texts(train_data.Text)\n",
    "\n",
    "word_index = tokenizer.word_index\n",
    "vocab_size = len(tokenizer.word_index) + 1\n",
    "print(\"Vocabulary Size :\", vocab_size)\n",
    "\n",
    "\n",
    "\n",
    "x_train = pad_sequences(tokenizer.texts_to_sequences(train_data.Text),\n",
    "                        maxlen = max_sequence_length)\n",
    "x_test = pad_sequences(tokenizer.texts_to_sequences(test_data.Text),\n",
    "                       maxlen = max_sequence_length)\n",
    "\n",
    "print(\"Training X Shape:\",x_train.shape)\n",
    "print(\"Testing X Shape:\",x_test.shape)\n",
    "\n",
    "\n",
    "train_data.Score.unique().tolist()\n",
    "\n",
    "from sklearn.preprocessing import LabelEncoder\n",
    "encoder = LabelEncoder()\n",
    "encoder.fit(train_data.Score.to_list())\n",
    "\n",
    "\n",
    "y_train = y_train.reshape(-1,1)\n",
    "y_test = y_test.reshape(-1,1)\n",
    "\n",
    "print(\"y_train shape:\", y_train.shape)\n",
    "print(\"y_test shape:\", y_test.shape)\n",
    "\n",
    "\n",
    "## Embedding Layer\n",
    "glv_emb = open(r'C:\\Users\\sunan\\Desktop\\Projects\\Sentiment analysis(chunks)\\Amazon Food Review Analysis\\Glove Embedding\\glove.6B.100d.txt', encoding='utf8')\n",
    "\n",
    "LR = 1e-3\n",
    "EMBEDDING_DIM = 100\n",
    "BATCH_SIZE = 128\n",
    "EPOCHS = 10\n",
    "\n",
    "\n",
    "embeddings_index = {}\n",
    "\n",
    "for line in glv_emb:\n",
    "    values = line.split()\n",
    "    word = value = values[0]\n",
    "    coefs = np.asarray(values[1:], dtype='float32')\n",
    "    embeddings_index[word] = coefs\n",
    "        \n",
    "glv_emb.close()\n",
    "\n",
    "print('Found %s word vectors.' %len(embeddings_index))\n",
    "\n",
    "embedding_matrix = np.zeros((vocab_size, EMBEDDING_DIM))\n",
    "for word, i in word_index.items():\n",
    "    embedding_vector = embeddings_index.get(word)\n",
    "    if embedding_vector is not None:\n",
    "        embedding_matrix[i] = embedding_vector\n",
    "\n",
    "import tensorflow as tf\n",
    "embedding_layer = tf.keras.layers.Embedding(vocab_size,\n",
    "                                          EMBEDDING_DIM,\n",
    "                                          weights=[embedding_matrix],\n",
    "                                          input_length=max_sequence_length,\n",
    "                                          trainable=False)\n",
    "\n",
    "model = Sequential()\n",
    "model.add(embedding_layer)\n",
    "model.add(LSTM(128))\n",
    "model.add(Flatten())\n",
    "model.add(Dense(128, activation= 'relu'))\n",
    "model.add(Dense(1, activation = 'sigmoid'))\n",
    "\n",
    "model.compile(optimizer = 'Adam', loss = 'binary_crossentropy', metrics = ['accuracy'])\n",
    "\n",
    "model.summary()\n",
    "\n",
    "history = model.fit(x_train, y_train, batch_size=BATCH_SIZE, epochs=EPOCHS, validation_data=(x_test, y_test), verbose=1)"
   ]
  },
  {
   "cell_type": "markdown",
   "metadata": {},
   "source": [
    "## Dataset 3"
   ]
  },
  {
   "cell_type": "code",
   "execution_count": 58,
   "metadata": {},
   "outputs": [
    {
     "data": {
      "text/html": [
       "<div>\n",
       "<style scoped>\n",
       "    .dataframe tbody tr th:only-of-type {\n",
       "        vertical-align: middle;\n",
       "    }\n",
       "\n",
       "    .dataframe tbody tr th {\n",
       "        vertical-align: top;\n",
       "    }\n",
       "\n",
       "    .dataframe thead th {\n",
       "        text-align: right;\n",
       "    }\n",
       "</style>\n",
       "<table border=\"1\" class=\"dataframe\">\n",
       "  <thead>\n",
       "    <tr style=\"text-align: right;\">\n",
       "      <th></th>\n",
       "      <th>Score</th>\n",
       "      <th>Text</th>\n",
       "    </tr>\n",
       "  </thead>\n",
       "  <tbody>\n",
       "    <tr>\n",
       "      <th>0</th>\n",
       "      <td>5</td>\n",
       "      <td>These raisins are moist and have a lot of flav...</td>\n",
       "    </tr>\n",
       "    <tr>\n",
       "      <th>1</th>\n",
       "      <td>1</td>\n",
       "      <td>Like the product not the price at Amazon. Just...</td>\n",
       "    </tr>\n",
       "    <tr>\n",
       "      <th>2</th>\n",
       "      <td>2</td>\n",
       "      <td>There was nothing in the package that indicate...</td>\n",
       "    </tr>\n",
       "    <tr>\n",
       "      <th>3</th>\n",
       "      <td>2</td>\n",
       "      <td>I seldom enjoy Kona coffee because it is so ex...</td>\n",
       "    </tr>\n",
       "    <tr>\n",
       "      <th>4</th>\n",
       "      <td>4</td>\n",
       "      <td>The machine is wonderful except that I have to...</td>\n",
       "    </tr>\n",
       "  </tbody>\n",
       "</table>\n",
       "</div>"
      ],
      "text/plain": [
       "   Score                                               Text\n",
       "0      5  These raisins are moist and have a lot of flav...\n",
       "1      1  Like the product not the price at Amazon. Just...\n",
       "2      2  There was nothing in the package that indicate...\n",
       "3      2  I seldom enjoy Kona coffee because it is so ex...\n",
       "4      4  The machine is wonderful except that I have to..."
      ]
     },
     "execution_count": 58,
     "metadata": {},
     "output_type": "execute_result"
    }
   ],
   "source": [
    "df3= pd.read_csv(r'C:\\Users\\sunan\\Desktop\\Projects\\Sentiment analysis(chunks)\\Sentiment_V3\\Foodreviews_Amazon3.csv')  \n",
    "df3.head()"
   ]
  },
  {
   "cell_type": "code",
   "execution_count": 59,
   "metadata": {},
   "outputs": [
    {
     "data": {
      "text/plain": [
       "<AxesSubplot:xlabel='Score', ylabel='count'>"
      ]
     },
     "execution_count": 59,
     "metadata": {},
     "output_type": "execute_result"
    },
    {
     "data": {
      "image/png": "[encoded data removed]",
      "text/plain": [
       "<Figure size 432x288 with 1 Axes>"
      ]
     },
     "metadata": {
      "needs_background": "light"
     },
     "output_type": "display_data"
    }
   ],
   "source": [
    "sns.countplot(x = 'Score', data = df3)"
   ]
  },
  {
   "cell_type": "code",
   "execution_count": 61,
   "metadata": {},
   "outputs": [
    {
     "data": {
      "text/html": [
       "<div>\n",
       "<style scoped>\n",
       "    .dataframe tbody tr th:only-of-type {\n",
       "        vertical-align: middle;\n",
       "    }\n",
       "\n",
       "    .dataframe tbody tr th {\n",
       "        vertical-align: top;\n",
       "    }\n",
       "\n",
       "    .dataframe thead th {\n",
       "        text-align: right;\n",
       "    }\n",
       "</style>\n",
       "<table border=\"1\" class=\"dataframe\">\n",
       "  <thead>\n",
       "    <tr style=\"text-align: right;\">\n",
       "      <th></th>\n",
       "      <th>Score</th>\n",
       "      <th>Text</th>\n",
       "    </tr>\n",
       "  </thead>\n",
       "  <tbody>\n",
       "    <tr>\n",
       "      <th>0</th>\n",
       "      <td>Highly Positive</td>\n",
       "      <td>These raisins are moist and have a lot of flav...</td>\n",
       "    </tr>\n",
       "    <tr>\n",
       "      <th>1</th>\n",
       "      <td>Highly Negative</td>\n",
       "      <td>Like the product not the price at Amazon. Just...</td>\n",
       "    </tr>\n",
       "    <tr>\n",
       "      <th>2</th>\n",
       "      <td>Negative</td>\n",
       "      <td>There was nothing in the package that indicate...</td>\n",
       "    </tr>\n",
       "    <tr>\n",
       "      <th>3</th>\n",
       "      <td>Negative</td>\n",
       "      <td>I seldom enjoy Kona coffee because it is so ex...</td>\n",
       "    </tr>\n",
       "    <tr>\n",
       "      <th>4</th>\n",
       "      <td>Positive</td>\n",
       "      <td>The machine is wonderful except that I have to...</td>\n",
       "    </tr>\n",
       "  </tbody>\n",
       "</table>\n",
       "</div>"
      ],
      "text/plain": [
       "             Score                                               Text\n",
       "0  Highly Positive  These raisins are moist and have a lot of flav...\n",
       "1  Highly Negative  Like the product not the price at Amazon. Just...\n",
       "2         Negative  There was nothing in the package that indicate...\n",
       "3         Negative  I seldom enjoy Kona coffee because it is so ex...\n",
       "4        Positive   The machine is wonderful except that I have to..."
      ]
     },
     "execution_count": 61,
     "metadata": {},
     "output_type": "execute_result"
    }
   ],
   "source": [
    "#Food rating Scores\n",
    "\n",
    "ratings = {1:\"Highly Negative\", 2:\"Negative\", 3:\"Neutral\", 4:\"Positive \", 5:\"Highly Positive\"}\n",
    "def label_decoder(Score):\n",
    "    return ratings[Score]\n",
    "df3.Score = df3.Score.apply(lambda x: label_decoder(x))\n",
    "df3.head()"
   ]
  },
  {
   "cell_type": "code",
   "execution_count": 62,
   "metadata": {},
   "outputs": [],
   "source": [
    "#preprocessing data\n",
    "\n",
    "\n",
    "def data_cleaning(text):\n",
    "    text = str(text).lower()  # convert to lowercase\n",
    "    text = re.sub(pattern=r'\\s+[a-zA-Z]\\s+',repl='',string = text)   # remove single characters\n",
    "    text = re.sub(r'https?://\\S+|www\\.\\S+',repl='',string = text)   # Remove URls, whitespace characters \n",
    "    text = re.sub(r'[^a-z\\s]',' ',string = text)# Removes all the special characters, digits from 0-9 and Capital Letters\n",
    "    text = re.sub(r'\\s+', ' ', string = text)  # Substituting multiple spaces with single space\n",
    "    ps = PorterStemmer()\n",
    "    text = [ps.stem(word) for word in text.split() if not word in set(stopwords.words('english'))]\n",
    "    text = ' '.join(text)\n",
    "    return text"
   ]
  },
  {
   "cell_type": "code",
   "execution_count": 63,
   "metadata": {},
   "outputs": [
    {
     "data": {
      "text/html": [
       "<div>\n",
       "<style scoped>\n",
       "    .dataframe tbody tr th:only-of-type {\n",
       "        vertical-align: middle;\n",
       "    }\n",
       "\n",
       "    .dataframe tbody tr th {\n",
       "        vertical-align: top;\n",
       "    }\n",
       "\n",
       "    .dataframe thead th {\n",
       "        text-align: right;\n",
       "    }\n",
       "</style>\n",
       "<table border=\"1\" class=\"dataframe\">\n",
       "  <thead>\n",
       "    <tr style=\"text-align: right;\">\n",
       "      <th></th>\n",
       "      <th>Score</th>\n",
       "      <th>Text</th>\n",
       "    </tr>\n",
       "  </thead>\n",
       "  <tbody>\n",
       "    <tr>\n",
       "      <th>0</th>\n",
       "      <td>Highly Positive</td>\n",
       "      <td>raisin moist havelot flavor need rememb refrig...</td>\n",
       "    </tr>\n",
       "    <tr>\n",
       "      <th>1</th>\n",
       "      <td>Highly Negative</td>\n",
       "      <td>like product price amazon fyi rice walmart avo...</td>\n",
       "    </tr>\n",
       "    <tr>\n",
       "      <th>2</th>\n",
       "      <td>Negative</td>\n",
       "      <td>noth packag indic sent gift recipi contact ama...</td>\n",
       "    </tr>\n",
       "    <tr>\n",
       "      <th>3</th>\n",
       "      <td>Negative</td>\n",
       "      <td>seldom enjoy kona coffe expens outstand coffe ...</td>\n",
       "    </tr>\n",
       "    <tr>\n",
       "      <th>4</th>\n",
       "      <td>Positive</td>\n",
       "      <td>machin wonder except thathav wait long make co...</td>\n",
       "    </tr>\n",
       "    <tr>\n",
       "      <th>...</th>\n",
       "      <td>...</td>\n",
       "      <td>...</td>\n",
       "    </tr>\n",
       "    <tr>\n",
       "      <th>49995</th>\n",
       "      <td>Highly Negative</td>\n",
       "      <td>believ guy jack price cancel order sorri order...</td>\n",
       "    </tr>\n",
       "    <tr>\n",
       "      <th>49996</th>\n",
       "      <td>Positive</td>\n",
       "      <td>good tast cooki enjoy chocol havenic gooey cho...</td>\n",
       "    </tr>\n",
       "    <tr>\n",
       "      <th>49997</th>\n",
       "      <td>Highly Positive</td>\n",
       "      <td>iswond candi sweet tast raspberri flavor unlik...</td>\n",
       "    </tr>\n",
       "    <tr>\n",
       "      <th>49998</th>\n",
       "      <td>Highly Positive</td>\n",
       "      <td>lower cholesterol month product dilig</td>\n",
       "    </tr>\n",
       "    <tr>\n",
       "      <th>49999</th>\n",
       "      <td>Highly Positive</td>\n",
       "      <td>order forproject work got record time enjoy ev...</td>\n",
       "    </tr>\n",
       "  </tbody>\n",
       "</table>\n",
       "<p>50000 rows × 2 columns</p>\n",
       "</div>"
      ],
      "text/plain": [
       "                 Score                                               Text\n",
       "0      Highly Positive  raisin moist havelot flavor need rememb refrig...\n",
       "1      Highly Negative  like product price amazon fyi rice walmart avo...\n",
       "2             Negative  noth packag indic sent gift recipi contact ama...\n",
       "3             Negative  seldom enjoy kona coffe expens outstand coffe ...\n",
       "4            Positive   machin wonder except thathav wait long make co...\n",
       "...                ...                                                ...\n",
       "49995  Highly Negative  believ guy jack price cancel order sorri order...\n",
       "49996        Positive   good tast cooki enjoy chocol havenic gooey cho...\n",
       "49997  Highly Positive  iswond candi sweet tast raspberri flavor unlik...\n",
       "49998  Highly Positive              lower cholesterol month product dilig\n",
       "49999  Highly Positive  order forproject work got record time enjoy ev...\n",
       "\n",
       "[50000 rows x 2 columns]"
      ]
     },
     "execution_count": 63,
     "metadata": {},
     "output_type": "execute_result"
    }
   ],
   "source": [
    "df3.Text = df3.Text.apply(lambda x: data_cleaning(x))\n",
    "df3"
   ]
  },
  {
   "cell_type": "code",
   "execution_count": 64,
   "metadata": {},
   "outputs": [
    {
     "name": "stdout",
     "output_type": "stream",
     "text": [
      "Train Data size: 40000\n",
      "Test Data size 10000\n",
      "Vocabulary Size : 64704\n",
      "Training X Shape: (40000, 30)\n",
      "Testing X Shape: (10000, 30)\n",
      "y_train shape: (40000, 1)\n",
      "y_test shape: (10000, 1)\n",
      "Found 400000 word vectors.\n",
      "Model: \"sequential_2\"\n",
      "_________________________________________________________________\n",
      " Layer (type)                Output Shape              Param #   \n",
      "=================================================================\n",
      " embedding_2 (Embedding)     (None, 30, 100)           6470400   \n",
      "                                                                 \n",
      " lstm_2 (LSTM)               (None, 128)               117248    \n",
      "                                                                 \n",
      " flatten_2 (Flatten)         (None, 128)               0         \n",
      "                                                                 \n",
      " dense_4 (Dense)             (None, 128)               16512     \n",
      "                                                                 \n",
      " dense_5 (Dense)             (None, 1)                 129       \n",
      "                                                                 \n",
      "=================================================================\n",
      "Total params: 6,604,289\n",
      "Trainable params: 133,889\n",
      "Non-trainable params: 6,470,400\n",
      "_________________________________________________________________\n",
      "Epoch 1/10\n",
      "313/313 [==============================] - 63s 190ms/step - loss: -1269.6877 - accuracy: 0.0767 - val_loss: -3706.5359 - val_accuracy: 0.0806\n",
      "Epoch 2/10\n",
      "313/313 [==============================] - 59s 190ms/step - loss: -8473.9092 - accuracy: 0.0767 - val_loss: -14390.2256 - val_accuracy: 0.0806\n",
      "Epoch 3/10\n",
      "313/313 [==============================] - 58s 184ms/step - loss: -22490.0508 - accuracy: 0.0767 - val_loss: -31541.7148 - val_accuracy: 0.0806\n",
      "Epoch 4/10\n",
      "313/313 [==============================] - 56s 177ms/step - loss: -42672.7656 - accuracy: 0.0767 - val_loss: -54530.3945 - val_accuracy: 0.0806\n",
      "Epoch 5/10\n",
      "313/313 [==============================] - 55s 177ms/step - loss: -68381.3203 - accuracy: 0.0767 - val_loss: -82756.7812 - val_accuracy: 0.0806\n",
      "Epoch 6/10\n",
      "313/313 [==============================] - 57s 184ms/step - loss: -99135.9844 - accuracy: 0.0767 - val_loss: -115783.0625 - val_accuracy: 0.0806\n",
      "Epoch 7/10\n",
      "313/313 [==============================] - 60s 191ms/step - loss: -134543.8594 - accuracy: 0.0767 - val_loss: -153315.0156 - val_accuracy: 0.0806\n",
      "Epoch 8/10\n",
      "313/313 [==============================] - 57s 184ms/step - loss: -174286.2656 - accuracy: 0.0767 - val_loss: -194995.4375 - val_accuracy: 0.0806\n",
      "Epoch 9/10\n",
      "313/313 [==============================] - 52s 165ms/step - loss: -218108.5000 - accuracy: 0.0767 - val_loss: -240619.3125 - val_accuracy: 0.0806\n",
      "Epoch 10/10\n",
      "313/313 [==============================] - 54s 172ms/step - loss: -265797.5938 - accuracy: 0.0767 - val_loss: -290037.2500 - val_accuracy: 0.0806\n"
     ]
    }
   ],
   "source": [
    "#data Splitting: train, test\n",
    "\n",
    "train_data, test_data = train_test_split(df3, test_size=0.20,random_state=7)\n",
    "print(\"Train Data size:\", len(train_data))\n",
    "print(\"Test Data size\", len(test_data))\n",
    "\n",
    "train_data.head(10)\n",
    "\n",
    "tokenizer = Tokenizer()\n",
    "tokenizer.fit_on_texts(train_data.Text)\n",
    "\n",
    "word_index = tokenizer.word_index\n",
    "vocab_size = len(tokenizer.word_index) + 1\n",
    "print(\"Vocabulary Size :\", vocab_size)\n",
    "\n",
    "\n",
    "x_train = pad_sequences(tokenizer.texts_to_sequences(train_data.Text),\n",
    "                        maxlen = max_sequence_length)\n",
    "x_test = pad_sequences(tokenizer.texts_to_sequences(test_data.Text),\n",
    "                       maxlen = max_sequence_length)\n",
    "\n",
    "print(\"Training X Shape:\",x_train.shape)\n",
    "print(\"Testing X Shape:\",x_test.shape)\n",
    "\n",
    "\n",
    "train_data.Score.unique().tolist()\n",
    "\n",
    "from sklearn.preprocessing import LabelEncoder\n",
    "encoder = LabelEncoder()\n",
    "encoder.fit(train_data.Score.to_list())\n",
    "\n",
    "\n",
    "y_train = y_train.reshape(-1,1)\n",
    "y_test = y_test.reshape(-1,1)\n",
    "\n",
    "print(\"y_train shape:\", y_train.shape)\n",
    "print(\"y_test shape:\", y_test.shape)\n",
    "\n",
    "\n",
    "## Embedding Layer\n",
    "glv_emb = open(r'C:\\Users\\sunan\\Desktop\\Projects\\Sentiment analysis(chunks)\\Amazon Food Review Analysis\\Glove Embedding\\glove.6B.100d.txt', encoding='utf8')\n",
    "\n",
    "LR = 1e-3\n",
    "EMBEDDING_DIM = 100\n",
    "BATCH_SIZE = 128\n",
    "EPOCHS = 10\n",
    "\n",
    "\n",
    "embeddings_index = {}\n",
    "\n",
    "for line in glv_emb:\n",
    "    values = line.split()\n",
    "    word = value = values[0]\n",
    "    coefs = np.asarray(values[1:], dtype='float32')\n",
    "    embeddings_index[word] = coefs\n",
    "        \n",
    "glv_emb.close()\n",
    "\n",
    "print('Found %s word vectors.' %len(embeddings_index))\n",
    "\n",
    "embedding_matrix = np.zeros((vocab_size, EMBEDDING_DIM))\n",
    "for word, i in word_index.items():\n",
    "    embedding_vector = embeddings_index.get(word)\n",
    "    if embedding_vector is not None:\n",
    "        embedding_matrix[i] = embedding_vector\n",
    "\n",
    "import tensorflow as tf\n",
    "embedding_layer = tf.keras.layers.Embedding(vocab_size,\n",
    "                                          EMBEDDING_DIM,\n",
    "                                          weights=[embedding_matrix],\n",
    "                                          input_length=max_sequence_length,\n",
    "                                          trainable=False)\n",
    "\n",
    "model = Sequential()\n",
    "model.add(embedding_layer)\n",
    "model.add(LSTM(128))\n",
    "model.add(Flatten())\n",
    "model.add(Dense(128, activation= 'relu'))\n",
    "model.add(Dense(1, activation = 'sigmoid'))\n",
    "\n",
    "model.compile(optimizer = 'Adam', loss = 'binary_crossentropy', metrics = ['accuracy'])\n",
    "\n",
    "model.summary()\n",
    "\n",
    "history = model.fit(x_train, y_train, batch_size=BATCH_SIZE, epochs=EPOCHS, validation_data=(x_test, y_test), verbose=1)"
   ]
  },
  {
   "cell_type": "code",
   "execution_count": null,
   "metadata": {},
   "outputs": [],
   "source": []
  }
 ],
 "metadata": {
  "kernelspec": {
   "display_name": "Python 3",
   "language": "python",
   "name": "python3"
  },
  "language_info": {
   "codemirror_mode": {
    "name": "ipython",
    "version": 3
   },
   "file_extension": ".py",
   "mimetype": "text/x-python",
   "name": "python",
   "nbconvert_exporter": "python",
   "pygments_lexer": "ipython3",
   "version": "3.8.8"
  }
 },
 "nbformat": 4,
 "nbformat_minor": 4
}
