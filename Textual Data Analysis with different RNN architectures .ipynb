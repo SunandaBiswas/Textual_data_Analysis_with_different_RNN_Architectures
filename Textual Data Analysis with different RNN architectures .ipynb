{
 "cells": [
  {
   "cell_type": "markdown",
   "metadata": {
    "id": "JxRdgMjc9CdX"
   },
   "source": [
    "The project is about **Sentiment Analysis** that shows output on **whether the provided text is positive or negative**. "
   ]
  },
  {
   "cell_type": "markdown",
   "metadata": {
    "id": "L8rK_4XrRdyZ"
   },
   "source": [
    "Here I have implemented RNN, LSTM, GRU, Bidirectional LSTM and Bidirectional GRU for analyzing the sequential textual data for **Sentiment Classification**.\n",
    "\n",
    "It's an Introductory & comparative analysis on accuracy results among different models, that shows performances of different models."
   ]
  },
  {
   "cell_type": "code",
   "execution_count": 1,
   "metadata": {
    "colab": {
     "base_uri": "https://localhost:8080/"
    },
    "id": "2FMhLeEL4R0s",
    "outputId": "fdb688ee-64a3-4a3e-e400-467229a3a758"
   },
   "outputs": [
    {
     "name": "stdout",
     "output_type": "stream",
     "text": [
      "--2021-07-03 07:22:52--  https://www.dropbox.com/s/pdhwlpi2yeie0ol/movie-reviews-dataset.zip\n",
      "Resolving www.dropbox.com (www.dropbox.com)... 162.125.1.18, 2620:100:6016:18::a27d:112\n",
      "Connecting to www.dropbox.com (www.dropbox.com)|162.125.1.18|:443... connected.\n",
      "HTTP request sent, awaiting response... 301 Moved Permanently\n",
      "Location: /s/raw/pdhwlpi2yeie0ol/movie-reviews-dataset.zip [following]\n",
      "--2021-07-03 07:22:52--  https://www.dropbox.com/s/raw/pdhwlpi2yeie0ol/movie-reviews-dataset.zip\n",
      "Reusing existing connection to www.dropbox.com:443.\n",
      "HTTP request sent, awaiting response... 302 Found\n",
      "Location: https://uc98cce4da5d6aaa724816d6e42b.dl.dropboxusercontent.com/cd/0/inline/BRkl_bKeWYCGwJ1ERGwS21BypPzypzdgLU_uU-HB96Dd0Y16_xE4DUQLIXjHIfHx10YoVL15Jb5OQictbLjTo_v_Ur8K0m8yjOkxF9lBdrdRGyq0_fhguEAnMHdsxJY1bXNsm2APibbOcQO3j0jIP2qq/file# [following]\n",
      "--2021-07-03 07:22:53--  https://uc98cce4da5d6aaa724816d6e42b.dl.dropboxusercontent.com/cd/0/inline/BRkl_bKeWYCGwJ1ERGwS21BypPzypzdgLU_uU-HB96Dd0Y16_xE4DUQLIXjHIfHx10YoVL15Jb5OQictbLjTo_v_Ur8K0m8yjOkxF9lBdrdRGyq0_fhguEAnMHdsxJY1bXNsm2APibbOcQO3j0jIP2qq/file\n",
      "Resolving uc98cce4da5d6aaa724816d6e42b.dl.dropboxusercontent.com (uc98cce4da5d6aaa724816d6e42b.dl.dropboxusercontent.com)... 162.125.1.15, 2620:100:6016:15::a27d:10f\n",
      "Connecting to uc98cce4da5d6aaa724816d6e42b.dl.dropboxusercontent.com (uc98cce4da5d6aaa724816d6e42b.dl.dropboxusercontent.com)|162.125.1.15|:443... connected.\n",
      "HTTP request sent, awaiting response... 302 Found\n",
      "Location: /cd/0/inline2/BRkTUBiU1OORHHWBaEWiNYiTyQHJm9FGGGImdkomMekKpuvr20OJxclGAVzZ2T6Ul8WzCD3m3Zj2fQLrPx2ZAxQI-vPB_fp8-wG7AkDeVyWTW93xhhdq0UKjDSB_6Z_8YdV56R49ZTzu-e5o3moeRvBOIzy573jyl9sAcSWWZONrLrp2MyfZNUSZWbmKIYf4Qai62b4-LWvW9JRL82xYFb8GzXYZc4cwCDxbZS_ZKuNgIheCzY1a50_N1Gy_CbJPHNxAHwaIJimKZ1oNJKV10SP1E7jH1e63t2akAXrcPfoUPpLxJJIdgyINj7DMslzfRKvXaHRc9cW9TPIlHlYuLuKHeKJjI49Gj0Dswx5JAM1u-5w-E8CERlqzTPBDnRNCHcU/file [following]\n",
      "--2021-07-03 07:22:53--  https://uc98cce4da5d6aaa724816d6e42b.dl.dropboxusercontent.com/cd/0/inline2/BRkTUBiU1OORHHWBaEWiNYiTyQHJm9FGGGImdkomMekKpuvr20OJxclGAVzZ2T6Ul8WzCD3m3Zj2fQLrPx2ZAxQI-vPB_fp8-wG7AkDeVyWTW93xhhdq0UKjDSB_6Z_8YdV56R49ZTzu-e5o3moeRvBOIzy573jyl9sAcSWWZONrLrp2MyfZNUSZWbmKIYf4Qai62b4-LWvW9JRL82xYFb8GzXYZc4cwCDxbZS_ZKuNgIheCzY1a50_N1Gy_CbJPHNxAHwaIJimKZ1oNJKV10SP1E7jH1e63t2akAXrcPfoUPpLxJJIdgyINj7DMslzfRKvXaHRc9cW9TPIlHlYuLuKHeKJjI49Gj0Dswx5JAM1u-5w-E8CERlqzTPBDnRNCHcU/file\n",
      "Reusing existing connection to uc98cce4da5d6aaa724816d6e42b.dl.dropboxusercontent.com:443.\n",
      "HTTP request sent, awaiting response... 200 OK\n",
      "Length: 62951389 (60M) [application/zip]\n",
      "Saving to: ‘movie-reviews-dataset.zip.5’\n",
      "\n",
      "movie-reviews-datas 100%[===================>]  60.03M  85.5MB/s    in 0.7s    \n",
      "\n",
      "2021-07-03 07:22:54 (85.5 MB/s) - ‘movie-reviews-dataset.zip.5’ saved [62951389/62951389]\n",
      "\n"
     ]
    }
   ],
   "source": [
    "!wget https://www.dropbox.com/s/pdhwlpi2yeie0ol/movie-reviews-dataset.zip"
   ]
  },
  {
   "cell_type": "code",
   "execution_count": 2,
   "metadata": {
    "colab": {
     "base_uri": "https://localhost:8080/"
    },
    "id": "3Awk9aOu7Cc8",
    "outputId": "23c8c998-c121-4028-d1ce-0c808f439461"
   },
   "outputs": [
    {
     "name": "stdout",
     "output_type": "stream",
     "text": [
      "replace movie-reviews-dataset/.DS_Store? [y]es, [n]o, [A]ll, [N]one, [r]ename: A\n"
     ]
    }
   ],
   "source": [
    "!unzip -q \"/content/movie-reviews-dataset.zip\"       #unzip dataset #loading data"
   ]
  },
  {
   "cell_type": "markdown",
   "metadata": {
    "id": "ZUcy_TLivsmK"
   },
   "source": [
    "#**RNN**"
   ]
  },
  {
   "cell_type": "code",
   "execution_count": 3,
   "metadata": {
    "id": "Z2n_1KoN8hWG"
   },
   "outputs": [],
   "source": [
    "import tensorflow as tf\n",
    "from tensorflow.keras.preprocessing import text_dataset_from_directory  \n",
    "#loads text data present in a particular directory format as tensorflow data object \n",
    "from tensorflow.strings import regex_replace   #tensorflow based fast text replacement operation\n",
    "from tensorflow.keras.layers.experimental.preprocessing import TextVectorization\n",
    "#Text vectorization module is used to convert string into a vector of integers that will be passed into the network.\n",
    "from tensorflow.keras.models import Sequential \n",
    "#sequential object is used to keep track of tensorflow objects in a graphic manner.\n",
    "from tensorflow.keras import Input\n",
    "from tensorflow.keras.layers import Dense, RNN, SimpleRNNCell, Embedding, Dropout  #all the different layers in neural network"
   ]
  },
  {
   "cell_type": "code",
   "execution_count": 4,
   "metadata": {
    "id": "rC56v277-_Nd"
   },
   "outputs": [],
   "source": [
    "def prepareData(dir):\n",
    "  df = text_dataset_from_directory(dir)\n",
    "  return df.map(lambda text, label: (regex_replace(text, '<br />', ' '), label),)\n",
    "\n",
    "# as the data has been created by scrapping website, there are chances of presence of html notations such as break statement. \n",
    "#to remove the notations, regex_replace() function is used here to replace with an empty string"
   ]
  },
  {
   "cell_type": "markdown",
   "metadata": {
    "id": "BdKOH-E1_fna"
   },
   "source": [
    "A function has been created that takes in a directory as input and returns tensorflow data object as the output inside the function. We use text dataset from directory module provided by tensorflow.\n",
    "\n",
    "This module only notes data when it is organized in class directories, which contains text files in them."
   ]
  },
  {
   "cell_type": "code",
   "execution_count": 5,
   "metadata": {
    "colab": {
     "base_uri": "https://localhost:8080/"
    },
    "id": "6RkQYE9x_6wW",
    "outputId": "1790e842-e185-4cd7-b024-0cacb7fb31b0"
   },
   "outputs": [
    {
     "name": "stdout",
     "output_type": "stream",
     "text": [
      "Found 25000 files belonging to 2 classes.\n",
      "Found 25000 files belonging to 2 classes.\n"
     ]
    }
   ],
   "source": [
    "train_df = prepareData('movie-reviews-dataset/train') #creating dataset object for both train and test data\n",
    "test_df = prepareData('movie-reviews-dataset/test')"
   ]
  },
  {
   "cell_type": "code",
   "execution_count": 6,
   "metadata": {
    "colab": {
     "base_uri": "https://localhost:8080/"
    },
    "id": "4zklT2VqIc9e",
    "outputId": "0989db9c-645d-4f4a-f2ea-15065a31468a"
   },
   "outputs": [
    {
     "name": "stdout",
     "output_type": "stream",
     "text": [
      "b'Checking the spoiler alert just in case.  Perhaps one of the most horrendous movies I have ever seen, Mazes and Monsters felt like I wasted 101 minutes of my life. The only redeeming quality of the movie were scenes that tried to be serious, but just ended up being funny since they were so bad. Evil Dead anyone? Unfortunately for M&M (fortunately for us) it did not develop a cult following and result in a trilogy. This movie tried to address a series of problems that the main character, Robbie (played by Hanks) encountered throughout the film. It ended up being a fear mongering video about stereotypes that helped fuel the D&D is the Devil movement in the 80s.  If you want to avoid wasting your time and money, steer clear of this junk.  P.S. - Even though the cover looks kinda interesting, which is why I guess my brother bought it, it in no way takes place in a fantasy realm, unless you consider New England or New York City to be such a place.'\n",
      "0\n"
     ]
    }
   ],
   "source": [
    "for text_batch, label_batch in train_df.take(1):  #checking if the data is loaded properly from training dataset\n",
    "  print(text_batch.numpy()[0])\n",
    "  print(label_batch.numpy()[0])"
   ]
  },
  {
   "cell_type": "code",
   "execution_count": 7,
   "metadata": {
    "colab": {
     "base_uri": "https://localhost:8080/"
    },
    "id": "unYkXX4Ok1RH",
    "outputId": "da964a07-1f4d-454e-b7c0-b88626751eb6"
   },
   "outputs": [
    {
     "name": "stdout",
     "output_type": "stream",
     "text": [
      "WARNING:tensorflow:Please add `keras.layers.InputLayer` instead of `keras.Input` to Sequential model. `keras.Input` is intended to be used by Functional model.\n"
     ]
    }
   ],
   "source": [
    "model = tf.keras.models.Sequential()  #initialized the sequential object, as the model will take a string as input.\n",
    "model.add(tf.keras.Input(shape=(1,), dtype='string'))  #adding a input layer that takes string data \n"
   ]
  },
  {
   "cell_type": "code",
   "execution_count": 8,
   "metadata": {
    "id": "hzXt_rEepM60"
   },
   "outputs": [],
   "source": [
    "#converting this string information into vector representation.\n",
    "#For this we are going to use the text vectorization module.\n",
    "\n",
    "\n",
    "max_tokens = 1000   #only tokenizing 1000 words\n",
    "max_len = 100\n",
    "vectorize_layer = TextVectorization(max_tokens=max_tokens, output_mode=\"int\", output_sequence_length=max_len)"
   ]
  },
  {
   "cell_type": "code",
   "execution_count": 9,
   "metadata": {
    "id": "JSSO4YonpM9Z"
   },
   "outputs": [],
   "source": [
    "train_texts = train_df.map(lambda text, label: text)  \n",
    "vectorize_layer.adapt(train_texts)\n",
    "\n",
    "model.add(vectorize_layer)"
   ]
  },
  {
   "cell_type": "code",
   "execution_count": 10,
   "metadata": {
    "id": "xp0B5iLTpM_z"
   },
   "outputs": [],
   "source": [
    "model.add(Embedding(max_tokens + 1, 128))\n",
    "\n",
    "rnn = RNN(SimpleRNNCell(64) , return_sequences=False,return_state=False)\n",
    "model.add(rnn)\n",
    "model.add(Dense(128, activation=\"relu\"))\n",
    "model.add(Dense(1, activation=\"sigmoid\"))"
   ]
  },
  {
   "cell_type": "code",
   "execution_count": 11,
   "metadata": {
    "id": "9sONTBh-pNGa"
   },
   "outputs": [],
   "source": [
    "model.compile(loss=\"binary_crossentropy\", optimizer=\"adam\", metrics=[\"accuracy\"])"
   ]
  },
  {
   "cell_type": "code",
   "execution_count": 12,
   "metadata": {
    "colab": {
     "base_uri": "https://localhost:8080/"
    },
    "id": "fryz3QHrmHBx",
    "outputId": "e2021c3f-e3ba-4f18-d88e-ca9d70acf397"
   },
   "outputs": [
    {
     "name": "stdout",
     "output_type": "stream",
     "text": [
      "Epoch 1/10\n",
      "782/782 - 27s - loss: 0.6992 - accuracy: 0.5105\n",
      "Epoch 2/10\n",
      "782/782 - 26s - loss: 0.6897 - accuracy: 0.5364\n",
      "Epoch 3/10\n",
      "782/782 - 26s - loss: 0.6664 - accuracy: 0.5932\n",
      "Epoch 4/10\n",
      "782/782 - 26s - loss: 0.6446 - accuracy: 0.6368\n",
      "Epoch 5/10\n",
      "782/782 - 26s - loss: 0.6631 - accuracy: 0.5991\n",
      "Epoch 6/10\n",
      "782/782 - 26s - loss: 0.6685 - accuracy: 0.5874\n",
      "Epoch 7/10\n",
      "782/782 - 26s - loss: 0.6605 - accuracy: 0.6008\n",
      "Epoch 8/10\n",
      "782/782 - 26s - loss: 0.6369 - accuracy: 0.6400\n",
      "Epoch 9/10\n",
      "782/782 - 26s - loss: 0.6487 - accuracy: 0.6098\n",
      "Epoch 10/10\n",
      "782/782 - 26s - loss: 0.6583 - accuracy: 0.5983\n"
     ]
    },
    {
     "data": {
      "text/plain": [
       "<tensorflow.python.keras.callbacks.History at 0x7f25781b8c10>"
      ]
     },
     "execution_count": 12,
     "metadata": {
      "tags": []
     },
     "output_type": "execute_result"
    }
   ],
   "source": [
    "model.fit(train_df, epochs=10, batch_size=64, verbose=2)"
   ]
  },
  {
   "cell_type": "code",
   "execution_count": 13,
   "metadata": {
    "colab": {
     "base_uri": "https://localhost:8080/"
    },
    "id": "EpYoqTpfpNI8",
    "outputId": "10e872a7-aaea-4a85-9c2c-1cbba5f899c9"
   },
   "outputs": [
    {
     "name": "stdout",
     "output_type": "stream",
     "text": [
      "Model: \"sequential\"\n",
      "_________________________________________________________________\n",
      "Layer (type)                 Output Shape              Param #   \n",
      "=================================================================\n",
      "text_vectorization (TextVect (None, 100)               0         \n",
      "_________________________________________________________________\n",
      "embedding (Embedding)        (None, 100, 128)          128128    \n",
      "_________________________________________________________________\n",
      "rnn (RNN)                    (None, 64)                12352     \n",
      "_________________________________________________________________\n",
      "dense (Dense)                (None, 128)               8320      \n",
      "_________________________________________________________________\n",
      "dense_1 (Dense)              (None, 1)                 129       \n",
      "=================================================================\n",
      "Total params: 148,929\n",
      "Trainable params: 148,929\n",
      "Non-trainable params: 0\n",
      "_________________________________________________________________\n"
     ]
    }
   ],
   "source": [
    "model.summary()"
   ]
  },
  {
   "cell_type": "code",
   "execution_count": 14,
   "metadata": {
    "colab": {
     "base_uri": "https://localhost:8080/"
    },
    "id": "NK6WC-mCpNLP",
    "outputId": "0f8cc98c-d65f-433f-985c-79557385f76c"
   },
   "outputs": [
    {
     "data": {
      "text/plain": [
       "[0.6762213110923767, 0.5723199844360352]"
      ]
     },
     "execution_count": 14,
     "metadata": {
      "tags": []
     },
     "output_type": "execute_result"
    }
   ],
   "source": [
    "model.evaluate(test_df, verbose=0)  #evaluating model on test dataset"
   ]
  },
  {
   "cell_type": "code",
   "execution_count": 15,
   "metadata": {
    "colab": {
     "base_uri": "https://localhost:8080/"
    },
    "id": "JwaSedRgNKhm",
    "outputId": "fafb6898-cee6-4b83-ca75-bbb9e57ded33"
   },
   "outputs": [
    {
     "name": "stdout",
     "output_type": "stream",
     "text": [
      "MSE: 0.572, RMSE: 0.757\n"
     ]
    }
   ],
   "source": [
    "from numpy import sqrt          #model evaluation by calculating RMSE, MSE values\n",
    "loss, error = model.evaluate(test_df, verbose=0)\n",
    "print('MSE: %.3f, RMSE: %.3f' % (error, sqrt(error)))"
   ]
  },
  {
   "cell_type": "code",
   "execution_count": 16,
   "metadata": {
    "colab": {
     "base_uri": "https://localhost:8080/"
    },
    "id": "uJ9DnH4k1FHW",
    "outputId": "42ba88ae-f930-4db0-fa67-6cd1cb662312"
   },
   "outputs": [
    {
     "name": "stdout",
     "output_type": "stream",
     "text": [
      "MSE: 0.620, RMSE: 0.788\n"
     ]
    }
   ],
   "source": [
    "loss, error = model.evaluate(train_df, verbose=0)\n",
    "print('MSE: %.3f, RMSE: %.3f' % (error, sqrt(error)))"
   ]
  },
  {
   "cell_type": "markdown",
   "metadata": {
    "id": "UZmdDkssPFy6"
   },
   "source": [
    "MSE is computed by the sum of square of prediction error which is real output minus predicted output, then divided by the number of data points. It shows you an absolute number as to how far your forecast results differ from the actual number. You cannot understand many ideas from one outcome, but this allows you to compare a real number with other results of a model and to help you select the best model for regression.\n",
    "\n",
    "MSE square root is the Root Mean Square Error(RMSE). It's more frequently used than MSE, as MSE can first be too large to be easily compared. Second, MSE is calculated by the error square and therefore the square root returns to the same predictive level.\n",
    "\n",
    "This signifies, the lower the error, the better and if 0, the better the model.\n",
    "####There are 3 main metrics for model evaluation in regression:\n",
    "1. R Square/Adjusted R Square\n",
    "\n",
    "2. Mean Square Error(MSE)/Root Mean Square Error(RMSE)\n",
    "\n",
    "3. Mean Absolute Error(MAE)\n",
    "\n",
    "\n"
   ]
  },
  {
   "cell_type": "code",
   "execution_count": 17,
   "metadata": {
    "colab": {
     "base_uri": "https://localhost:8080/"
    },
    "id": "58d4YzXyOPj_",
    "outputId": "c50925ba-6e3f-4274-908e-409ccd05cf96"
   },
   "outputs": [
    {
     "name": "stdout",
     "output_type": "stream",
     "text": [
      "782/782 - 10s - loss: 0.6762 - accuracy: 0.5723\n",
      "Accuracy: 0.572\n"
     ]
    }
   ],
   "source": [
    "loss, acc = model.evaluate(test_df, verbose=2)  #Model evaluation with checking the accuracy rate\n",
    "print('Accuracy: %.3f' % acc)"
   ]
  },
  {
   "cell_type": "code",
   "execution_count": 18,
   "metadata": {
    "colab": {
     "base_uri": "https://localhost:8080/"
    },
    "id": "H9U8W-IY1QKQ",
    "outputId": "d8e44934-7a17-4a2d-e22d-7e32afc558b0"
   },
   "outputs": [
    {
     "name": "stdout",
     "output_type": "stream",
     "text": [
      "782/782 - 11s - loss: 0.6377 - accuracy: 0.6205\n",
      "Accuracy: 0.620\n"
     ]
    }
   ],
   "source": [
    "loss, acc = model.evaluate(train_df, verbose=2)  #Model evaluation with checking the accuracy rate\n",
    "print('Accuracy: %.3f' % acc)"
   ]
  },
  {
   "cell_type": "code",
   "execution_count": 19,
   "metadata": {
    "colab": {
     "base_uri": "https://localhost:8080/"
    },
    "id": "Htajy8Hhmv5y",
    "outputId": "405b151c-c37f-47e5-84a8-ea3d121d8d9a"
   },
   "outputs": [
    {
     "data": {
      "text/plain": [
       "array([[0.4639558]], dtype=float32)"
      ]
     },
     "execution_count": 19,
     "metadata": {
      "tags": []
     },
     "output_type": "execute_result"
    }
   ],
   "source": [
    "text = \"I do not like the movie !\" \n",
    "model.predict([text])  #result is less than 0.5 ,that means the result says the text is negative sentiments"
   ]
  },
  {
   "cell_type": "code",
   "execution_count": 20,
   "metadata": {
    "colab": {
     "base_uri": "https://localhost:8080/"
    },
    "id": "CxJoAb332_qz",
    "outputId": "74e8d79d-cae6-42e6-d18b-1cee27c39f0c"
   },
   "outputs": [
    {
     "data": {
      "text/plain": [
       "array([[0.46395582]], dtype=float32)"
      ]
     },
     "execution_count": 20,
     "metadata": {
      "tags": []
     },
     "output_type": "execute_result"
    }
   ],
   "source": [
    "text = \"I loved the movie !\"\n",
    "model.predict([text])  #if the result is greater than 0.5 ,that means the result says the text is positive sentiments.\n",
    "# but Through RNN Implementation it could not predict popsitive emotions."
   ]
  },
  {
   "cell_type": "markdown",
   "metadata": {
    "id": "Z6YaffgAv04k"
   },
   "source": [
    "#**LSTM**"
   ]
  },
  {
   "cell_type": "code",
   "execution_count": 1,
   "metadata": {
    "id": "CQttOvcRK9dk"
   },
   "outputs": [],
   "source": [
    "import tensorflow as tf\n",
    "from tensorflow.keras.preprocessing import text_dataset_from_directory\n",
    "from tensorflow.strings import regex_replace\n",
    "from tensorflow.keras.layers.experimental.preprocessing import TextVectorization\n",
    "from tensorflow.keras.models import Sequential\n",
    "from tensorflow.keras import Input\n",
    "from tensorflow.keras.layers import Dense, LSTM, Embedding, Dropout"
   ]
  },
  {
   "cell_type": "code",
   "execution_count": 2,
   "metadata": {
    "id": "k67_Lj2uK9gv"
   },
   "outputs": [],
   "source": [
    "def prepareData(dir):\n",
    "  data = text_dataset_from_directory(dir)\n",
    "  return data.map(\n",
    "    lambda text, label: (regex_replace(text, '<br />', ' '), label),\n",
    "  )"
   ]
  },
  {
   "cell_type": "code",
   "execution_count": 3,
   "metadata": {
    "colab": {
     "base_uri": "https://localhost:8080/"
    },
    "id": "EQc_7VkiK9za",
    "outputId": "d285b79b-5163-40b8-9efd-f430d9f4a28b"
   },
   "outputs": [
    {
     "name": "stdout",
     "output_type": "stream",
     "text": [
      "Found 25000 files belonging to 2 classes.\n",
      "Found 25000 files belonging to 2 classes.\n"
     ]
    }
   ],
   "source": [
    "train_data = prepareData('movie-reviews-dataset/train') #creating dataset object for both train and test data\n",
    "test_data = prepareData('movie-reviews-dataset/test')"
   ]
  },
  {
   "cell_type": "code",
   "execution_count": 4,
   "metadata": {
    "colab": {
     "base_uri": "https://localhost:8080/"
    },
    "id": "JdMaq_0LLMNI",
    "outputId": "3501dd49-cc41-450f-cb76-187c7baeddfa"
   },
   "outputs": [
    {
     "name": "stdout",
     "output_type": "stream",
     "text": [
      "WARNING:tensorflow:Please add `keras.layers.InputLayer` instead of `keras.Input` to Sequential model. `keras.Input` is intended to be used by Functional model.\n"
     ]
    }
   ],
   "source": [
    "model = tf.keras.models.Sequential()  #initialized the sequential object, as the model will take a string as input.\n",
    "model.add(tf.keras.Input(shape=(1,), dtype='string'))  #adding a input layer that takes string data \n"
   ]
  },
  {
   "cell_type": "code",
   "execution_count": 5,
   "metadata": {
    "id": "P-ZvoNxzLMQ1"
   },
   "outputs": [],
   "source": [
    "max_tokens = 1000   #only tokenizing 1000 words\n",
    "max_len = 100\n",
    "vectorize_layer = TextVectorization(max_tokens=max_tokens, output_mode=\"int\", output_sequence_length=max_len)"
   ]
  },
  {
   "cell_type": "code",
   "execution_count": 6,
   "metadata": {
    "id": "2zz5ObWgLV-G"
   },
   "outputs": [],
   "source": [
    "train_texts = train_data.map(lambda text, label: text)  \n",
    "vectorize_layer.adapt(train_texts)\n",
    "\n",
    "model.add(vectorize_layer)"
   ]
  },
  {
   "cell_type": "code",
   "execution_count": 7,
   "metadata": {
    "id": "1Rfz_gTXvzlg"
   },
   "outputs": [],
   "source": [
    "model.add(Embedding(max_tokens + 1, 128))\n",
    "\n",
    "model.add(LSTM(64))\n",
    "model.add(Dense(64, activation=\"relu\"))\n",
    "model.add(Dense(1, activation=\"sigmoid\"))"
   ]
  },
  {
   "cell_type": "code",
   "execution_count": 8,
   "metadata": {
    "colab": {
     "base_uri": "https://localhost:8080/"
    },
    "id": "F-IgGhF6wA7A",
    "outputId": "8435d428-da36-491a-a7f2-3fe924813a5c"
   },
   "outputs": [
    {
     "name": "stdout",
     "output_type": "stream",
     "text": [
      "Model: \"sequential\"\n",
      "_________________________________________________________________\n",
      "Layer (type)                 Output Shape              Param #   \n",
      "=================================================================\n",
      "text_vectorization (TextVect (None, 100)               0         \n",
      "_________________________________________________________________\n",
      "embedding (Embedding)        (None, 100, 128)          128128    \n",
      "_________________________________________________________________\n",
      "lstm (LSTM)                  (None, 64)                49408     \n",
      "_________________________________________________________________\n",
      "dense (Dense)                (None, 64)                4160      \n",
      "_________________________________________________________________\n",
      "dense_1 (Dense)              (None, 1)                 65        \n",
      "=================================================================\n",
      "Total params: 181,761\n",
      "Trainable params: 181,761\n",
      "Non-trainable params: 0\n",
      "_________________________________________________________________\n"
     ]
    }
   ],
   "source": [
    "model.summary()"
   ]
  },
  {
   "cell_type": "code",
   "execution_count": 10,
   "metadata": {
    "colab": {
     "base_uri": "https://localhost:8080/"
    },
    "id": "yGjMmHUEao8x",
    "outputId": "a5e8607c-2301-404c-cdb8-e2ffc55a06ee"
   },
   "outputs": [
    {
     "name": "stdout",
     "output_type": "stream",
     "text": [
      "Epoch 1/10\n",
      "782/782 - 56s - loss: 0.3934 - accuracy: 0.8255\n",
      "Epoch 2/10\n",
      "782/782 - 54s - loss: 0.3676 - accuracy: 0.8369\n",
      "Epoch 3/10\n",
      "782/782 - 54s - loss: 0.3516 - accuracy: 0.8466\n",
      "Epoch 4/10\n",
      "782/782 - 54s - loss: 0.3431 - accuracy: 0.8540\n",
      "Epoch 5/10\n",
      "782/782 - 54s - loss: 0.3286 - accuracy: 0.8596\n",
      "Epoch 6/10\n",
      "782/782 - 55s - loss: 0.3221 - accuracy: 0.8653\n",
      "Epoch 7/10\n",
      "782/782 - 55s - loss: 0.3060 - accuracy: 0.8716\n",
      "Epoch 8/10\n",
      "782/782 - 55s - loss: 0.2854 - accuracy: 0.8806\n",
      "Epoch 9/10\n",
      "782/782 - 55s - loss: 0.2977 - accuracy: 0.8734\n",
      "Epoch 10/10\n",
      "782/782 - 54s - loss: 0.2625 - accuracy: 0.8904\n"
     ]
    },
    {
     "data": {
      "text/plain": [
       "<tensorflow.python.keras.callbacks.History at 0x7fb75c997c90>"
      ]
     },
     "execution_count": 10,
     "metadata": {
      "tags": []
     },
     "output_type": "execute_result"
    }
   ],
   "source": [
    "model.compile(loss=\"binary_crossentropy\", optimizer=\"Adam\", metrics=[\"accuracy\"])\n",
    "model.fit(train_data, epochs=10, batch_size=32, verbose=2) "
   ]
  },
  {
   "cell_type": "code",
   "execution_count": 12,
   "metadata": {
    "colab": {
     "base_uri": "https://localhost:8080/"
    },
    "id": "ttX990rFZj3k",
    "outputId": "416aece0-d5dd-43fe-ac47-2e3131bb55a7"
   },
   "outputs": [
    {
     "name": "stdout",
     "output_type": "stream",
     "text": [
      "782/782 - 17s - loss: 0.6003 - accuracy: 0.7700\n",
      "Accuracy: 0.770\n"
     ]
    }
   ],
   "source": [
    "loss, acc = model.evaluate(test_data, verbose=2)  #Model evaluation with checking the accuracy rate\n",
    "print('Accuracy: %.3f' % acc)"
   ]
  },
  {
   "cell_type": "code",
   "execution_count": 13,
   "metadata": {
    "colab": {
     "base_uri": "https://localhost:8080/"
    },
    "id": "rZv9P64uZkp-",
    "outputId": "82bdf246-2ef5-4d73-c708-a92bbf09c509"
   },
   "outputs": [
    {
     "data": {
      "text/plain": [
       "array([[0.32062522]], dtype=float32)"
      ]
     },
     "execution_count": 13,
     "metadata": {
      "tags": []
     },
     "output_type": "execute_result"
    }
   ],
   "source": [
    "text = \"I don't like the movie !\"\n",
    "model.predict([text])  #result is less than 0.5 ,that means the result says the text is about negative review/ negative sentiment"
   ]
  },
  {
   "cell_type": "code",
   "execution_count": 14,
   "metadata": {
    "colab": {
     "base_uri": "https://localhost:8080/"
    },
    "id": "_6wQi1jQZsuI",
    "outputId": "152917e8-cbe7-4b6c-c438-7cef91ccb823"
   },
   "outputs": [
    {
     "data": {
      "text/plain": [
       "array([[0.8115357]], dtype=float32)"
      ]
     },
     "execution_count": 14,
     "metadata": {
      "tags": []
     },
     "output_type": "execute_result"
    }
   ],
   "source": [
    "\n",
    "text = \"I loved the movie !\"\n",
    "model.predict([text])  #result is greater than 0.5 ,that means the result says the text is positive review/ positive sentiment"
   ]
  },
  {
   "cell_type": "markdown",
   "metadata": {
    "id": "KCw_NRb33SiG"
   },
   "source": [
    "#GRU"
   ]
  },
  {
   "cell_type": "code",
   "execution_count": 1,
   "metadata": {
    "id": "K7_6Zq9x3VGh"
   },
   "outputs": [],
   "source": [
    "from tensorflow.keras.preprocessing import text_dataset_from_directory\n",
    "from tensorflow.strings import regex_replace\n",
    "from tensorflow.keras.layers.experimental.preprocessing import TextVectorization\n",
    "from tensorflow.keras.models import Sequential\n",
    "from tensorflow.keras import Input\n",
    "from tensorflow.keras.layers import Dense, GRU, Embedding, Dropout"
   ]
  },
  {
   "cell_type": "code",
   "execution_count": 2,
   "metadata": {
    "id": "3yzdMWkP3gFR"
   },
   "outputs": [],
   "source": [
    "def prepareData(dir):\n",
    "  data = text_dataset_from_directory(dir)\n",
    "  return data.map(\n",
    "    lambda text, label: (regex_replace(text, '<br />', ' '), label),\n",
    "  )"
   ]
  },
  {
   "cell_type": "code",
   "execution_count": 3,
   "metadata": {
    "colab": {
     "base_uri": "https://localhost:8080/"
    },
    "id": "vwzABKDc3kZy",
    "outputId": "9ea04513-1958-40a3-d999-e83045b57d4c"
   },
   "outputs": [
    {
     "name": "stdout",
     "output_type": "stream",
     "text": [
      "Found 25000 files belonging to 2 classes.\n",
      "Found 25000 files belonging to 2 classes.\n",
      "b\"Nice movie with a great soundtrack which spans through the rock landscape of the 70's and 80's. Radiofreccia describes a generation, it describes life in a small village near Correggio (hometown of Ligabue, the singer who wrote the book that inspired the movie), it describes life of young people and their problems relating to the world. It reminds of Trainspotting, with a bit of Italian touch.\"\n",
      "1\n"
     ]
    }
   ],
   "source": [
    "train_data = prepareData('movie-reviews-dataset/train')\n",
    "test_data = prepareData('movie-reviews-dataset/test')"
   ]
  },
  {
   "cell_type": "code",
   "execution_count": 4,
   "metadata": {
    "colab": {
     "base_uri": "https://localhost:8080/"
    },
    "id": "e2z6_77M3nDE",
    "outputId": "4b103ec1-ee99-412a-dc26-813879618fc7"
   },
   "outputs": [
    {
     "name": "stdout",
     "output_type": "stream",
     "text": [
      "WARNING:tensorflow:Please add `keras.layers.InputLayer` instead of `keras.Input` to Sequential model. `keras.Input` is intended to be used by Functional model.\n"
     ]
    }
   ],
   "source": [
    "model = Sequential()\n",
    "model.add(Input(shape=(1,), dtype=\"string\"))"
   ]
  },
  {
   "cell_type": "code",
   "execution_count": 5,
   "metadata": {
    "id": "1SS2Gtiq32r-"
   },
   "outputs": [],
   "source": [
    "max_tokens = 1000\n",
    "max_len = 100\n",
    "vectorize_layer = TextVectorization(max_tokens=max_tokens, output_mode=\"int\", output_sequence_length=max_len,)"
   ]
  },
  {
   "cell_type": "code",
   "execution_count": 6,
   "metadata": {
    "id": "_1YvDsJB35Ly"
   },
   "outputs": [],
   "source": [
    "train_texts = train_data.map(lambda text, label: text)\n",
    "vectorize_layer.adapt(train_texts)\n",
    "\n",
    "model.add(vectorize_layer)"
   ]
  },
  {
   "cell_type": "code",
   "execution_count": 7,
   "metadata": {
    "id": "hr0z0Eqq4BS3"
   },
   "outputs": [],
   "source": [
    "model.add(Embedding(max_tokens + 1, 128))\n",
    "\n",
    "model.add(GRU(128))\n",
    "model.add(Dense(64, activation=\"relu\"))\n",
    "model.add(Dense(1, activation=\"sigmoid\"))"
   ]
  },
  {
   "cell_type": "code",
   "execution_count": 10,
   "metadata": {
    "id": "Dj2PPZEh4Hy1"
   },
   "outputs": [],
   "source": [
    "model.compile(loss=\"mse\", optimizer=\"Adam\", metrics=[\"accuracy\"])"
   ]
  },
  {
   "cell_type": "code",
   "execution_count": 11,
   "metadata": {
    "colab": {
     "base_uri": "https://localhost:8080/"
    },
    "id": "yUSHpBFp4L2G",
    "outputId": "993a07d3-d40f-46c3-97b0-81585ce67a3c"
   },
   "outputs": [
    {
     "name": "stdout",
     "output_type": "stream",
     "text": [
      "Epoch 1/10\n",
      "782/782 - 78s - loss: 0.1448 - accuracy: 0.7946\n",
      "Epoch 2/10\n",
      "782/782 - 76s - loss: 0.1274 - accuracy: 0.8215\n",
      "Epoch 3/10\n",
      "782/782 - 76s - loss: 0.1192 - accuracy: 0.8370\n",
      "Epoch 4/10\n",
      "782/782 - 76s - loss: 0.1111 - accuracy: 0.8500\n",
      "Epoch 5/10\n",
      "782/782 - 76s - loss: 0.1037 - accuracy: 0.8637\n",
      "Epoch 6/10\n",
      "782/782 - 76s - loss: 0.0984 - accuracy: 0.8710\n",
      "Epoch 7/10\n",
      "782/782 - 76s - loss: 0.0919 - accuracy: 0.8822\n",
      "Epoch 8/10\n",
      "782/782 - 76s - loss: 0.0865 - accuracy: 0.8900\n",
      "Epoch 9/10\n",
      "782/782 - 76s - loss: 0.0810 - accuracy: 0.8983\n",
      "Epoch 10/10\n",
      "782/782 - 76s - loss: 0.0751 - accuracy: 0.9074\n"
     ]
    },
    {
     "data": {
      "text/plain": [
       "<tensorflow.python.keras.callbacks.History at 0x7f4f2940bd90>"
      ]
     },
     "execution_count": 11,
     "metadata": {
      "tags": []
     },
     "output_type": "execute_result"
    }
   ],
   "source": [
    "model.fit(train_data, epochs=10, batch_size=32, verbose=2)"
   ]
  },
  {
   "cell_type": "code",
   "execution_count": 46,
   "metadata": {
    "colab": {
     "base_uri": "https://localhost:8080/"
    },
    "id": "mlabhE2y4SIj",
    "outputId": "eb3f455e-db38-4dc6-bf3c-a3c8bd5c69c9"
   },
   "outputs": [
    {
     "name": "stdout",
     "output_type": "stream",
     "text": [
      "Accuracy on trained dataset: 0.776\n"
     ]
    }
   ],
   "source": [
    "loss, acc = model.evaluate(test_data, verbose=0)\n",
    "print('Accuracy on test dataset: %.3f' % acc)"
   ]
  },
  {
   "cell_type": "code",
   "execution_count": 47,
   "metadata": {
    "colab": {
     "base_uri": "https://localhost:8080/"
    },
    "id": "aFp153Vf-t-X",
    "outputId": "2873086e-4299-441d-8ea1-c8aec5c5175d"
   },
   "outputs": [
    {
     "name": "stdout",
     "output_type": "stream",
     "text": [
      "Accuracy on test dataset: 0.910\n"
     ]
    }
   ],
   "source": [
    "loss, acc = model.evaluate(train_data, verbose=0)\n",
    "print('Accuracy on trained dataset: %.3f' % acc)"
   ]
  },
  {
   "cell_type": "code",
   "execution_count": 16,
   "metadata": {
    "colab": {
     "base_uri": "https://localhost:8080/"
    },
    "id": "APOC7u3G4Xt2",
    "outputId": "e9b8f3a1-8dea-4105-ad06-b938a39f2a44"
   },
   "outputs": [
    {
     "data": {
      "text/plain": [
       "array([[0.9731984]], dtype=float32)"
      ]
     },
     "execution_count": 16,
     "metadata": {
      "tags": []
     },
     "output_type": "execute_result"
    }
   ],
   "source": [
    "text = \"I loved the movie !\"   # Prediction result > 0.5, this predicted the text as positive sentiment.\n",
    "model.predict([text])"
   ]
  },
  {
   "cell_type": "code",
   "execution_count": 17,
   "metadata": {
    "colab": {
     "base_uri": "https://localhost:8080/"
    },
    "id": "gcK4f9jv_RO4",
    "outputId": "daa48b89-9095-4d0a-a8ed-76c24babfcd8"
   },
   "outputs": [
    {
     "data": {
      "text/plain": [
       "array([[0.3991946]], dtype=float32)"
      ]
     },
     "execution_count": 17,
     "metadata": {
      "tags": []
     },
     "output_type": "execute_result"
    }
   ],
   "source": [
    "text = \"I do not like the movie !\"   # Prediction result < 0.5, this predicted the text as positive sentiment.\n",
    "model.predict([text])"
   ]
  },
  {
   "cell_type": "markdown",
   "metadata": {
    "id": "aiBD5_e5LsWp"
   },
   "source": [
    "#**BiDirectional_LSTM**"
   ]
  },
  {
   "cell_type": "code",
   "execution_count": 3,
   "metadata": {
    "id": "uIC8RCc2LqbV"
   },
   "outputs": [],
   "source": [
    "from tensorflow.keras.preprocessing import text_dataset_from_directory\n",
    "from tensorflow.strings import regex_replace\n",
    "from tensorflow.keras.layers.experimental.preprocessing import TextVectorization\n",
    "from tensorflow.keras.models import Sequential\n",
    "from tensorflow.keras import Input\n",
    "from tensorflow.keras.layers import Dense, LSTM, Embedding, Dropout , Bidirectional"
   ]
  },
  {
   "cell_type": "code",
   "execution_count": 4,
   "metadata": {
    "id": "2KW1GmSMMRdf"
   },
   "outputs": [],
   "source": [
    "def prepareData(dir):\n",
    "  data = text_dataset_from_directory(dir)\n",
    "  return data.map( lambda text, label: (regex_replace(text, '<br />', ' '), label),)"
   ]
  },
  {
   "cell_type": "code",
   "execution_count": 5,
   "metadata": {
    "colab": {
     "base_uri": "https://localhost:8080/"
    },
    "id": "GDARogo9MRgR",
    "outputId": "63c7a3fe-cd34-4d4c-97c9-4e3edb89e5da"
   },
   "outputs": [
    {
     "name": "stdout",
     "output_type": "stream",
     "text": [
      "Found 25000 files belonging to 2 classes.\n",
      "Found 25000 files belonging to 2 classes.\n"
     ]
    }
   ],
   "source": [
    "train_data = prepareData('movie-reviews-dataset/train')\n",
    "test_data = prepareData('movie-reviews-dataset/test')"
   ]
  },
  {
   "cell_type": "code",
   "execution_count": 6,
   "metadata": {
    "colab": {
     "base_uri": "https://localhost:8080/"
    },
    "id": "LWPwKODAOOUB",
    "outputId": "72af4e17-29f6-4d0e-b6b0-e839ea9c98bd"
   },
   "outputs": [
    {
     "name": "stdout",
     "output_type": "stream",
     "text": [
      "WARNING:tensorflow:Please add `keras.layers.InputLayer` instead of `keras.Input` to Sequential model. `keras.Input` is intended to be used by Functional model.\n"
     ]
    }
   ],
   "source": [
    "model = Sequential()\n",
    "model.add(Input(shape=(1,), dtype=\"string\"))"
   ]
  },
  {
   "cell_type": "code",
   "execution_count": 7,
   "metadata": {
    "id": "cdshTIXqOVpN"
   },
   "outputs": [],
   "source": [
    "max_tokens = 1000\n",
    "max_len = 100\n",
    "vectorize_layer = TextVectorization(\n",
    "  max_tokens=max_tokens,\n",
    "  output_mode=\"int\",\n",
    "  output_sequence_length=max_len,\n",
    ")"
   ]
  },
  {
   "cell_type": "code",
   "execution_count": 8,
   "metadata": {
    "id": "VdJWdVcNOYlR"
   },
   "outputs": [],
   "source": [
    "train_texts = train_data.map(lambda text, label: text)\n",
    "vectorize_layer.adapt(train_texts)\n",
    "\n",
    "model.add(vectorize_layer)"
   ]
  },
  {
   "cell_type": "code",
   "execution_count": 9,
   "metadata": {
    "id": "_NcxCi55Ob2n"
   },
   "outputs": [],
   "source": [
    "model.add(Embedding(max_tokens + 1, 128))\n",
    "\n",
    "model.add(Bidirectional(LSTM(64)))\n",
    "model.add(Dense(64, activation=\"relu\"))\n",
    "model.add(Dense(1, activation=\"sigmoid\"))"
   ]
  },
  {
   "cell_type": "code",
   "execution_count": 10,
   "metadata": {
    "id": "qpetU7T7Ogqo"
   },
   "outputs": [],
   "source": [
    "model.compile(loss=\"binary_crossentropy\", optimizer=\"adam\", metrics=[\"accuracy\"])"
   ]
  },
  {
   "cell_type": "code",
   "execution_count": 11,
   "metadata": {
    "colab": {
     "base_uri": "https://localhost:8080/"
    },
    "id": "7L6LTzmdOgzf",
    "outputId": "141b7615-46ce-43b7-eb62-d278d074230d"
   },
   "outputs": [
    {
     "name": "stdout",
     "output_type": "stream",
     "text": [
      "Epoch 1/10\n",
      "782/782 [==============================] - 101s 123ms/step - loss: 0.5203 - accuracy: 0.7366\n",
      "Epoch 2/10\n",
      "782/782 [==============================] - 96s 123ms/step - loss: 0.4326 - accuracy: 0.7995\n",
      "Epoch 3/10\n",
      "782/782 [==============================] - 98s 125ms/step - loss: 0.4030 - accuracy: 0.8155\n",
      "Epoch 4/10\n",
      "782/782 [==============================] - 96s 123ms/step - loss: 0.3770 - accuracy: 0.8297\n",
      "Epoch 5/10\n",
      "782/782 [==============================] - 96s 123ms/step - loss: 0.3504 - accuracy: 0.8418\n",
      "Epoch 6/10\n",
      "782/782 [==============================] - 96s 123ms/step - loss: 0.3217 - accuracy: 0.8558\n",
      "Epoch 7/10\n",
      "782/782 [==============================] - 96s 123ms/step - loss: 0.2979 - accuracy: 0.8688\n",
      "Epoch 8/10\n",
      "782/782 [==============================] - 96s 123ms/step - loss: 0.2687 - accuracy: 0.8831\n",
      "Epoch 9/10\n",
      "782/782 [==============================] - 97s 123ms/step - loss: 0.2487 - accuracy: 0.8905\n",
      "Epoch 10/10\n",
      "782/782 [==============================] - 97s 123ms/step - loss: 0.2191 - accuracy: 0.9042\n"
     ]
    },
    {
     "data": {
      "text/plain": [
       "<tensorflow.python.keras.callbacks.History at 0x7f9430130f10>"
      ]
     },
     "execution_count": 11,
     "metadata": {
      "tags": []
     },
     "output_type": "execute_result"
    }
   ],
   "source": [
    "model.fit(train_data, epochs=10, batch_size = 32)"
   ]
  },
  {
   "cell_type": "code",
   "execution_count": 13,
   "metadata": {
    "colab": {
     "base_uri": "https://localhost:8080/"
    },
    "id": "OGve3mVEOum6",
    "outputId": "81d346a5-d53d-432f-dc4a-4530f529d70c"
   },
   "outputs": [
    {
     "name": "stdout",
     "output_type": "stream",
     "text": [
      "Accuracy on test dataset: 0.774\n"
     ]
    }
   ],
   "source": [
    "loss, acc = model.evaluate(test_data, verbose=0)\n",
    "print('Accuracy on test dataset: %.3f' % acc)"
   ]
  },
  {
   "cell_type": "code",
   "execution_count": 14,
   "metadata": {
    "colab": {
     "base_uri": "https://localhost:8080/"
    },
    "id": "thiRxdSMU5s9",
    "outputId": "a925258d-139d-44e1-a14a-7006e7defdd2"
   },
   "outputs": [
    {
     "name": "stdout",
     "output_type": "stream",
     "text": [
      "Accuracy on trained dataset: 0.908\n"
     ]
    }
   ],
   "source": [
    "loss, acc = model.evaluate(train_data, verbose=0)\n",
    "print('Accuracy on trained dataset: %.3f' % acc)"
   ]
  },
  {
   "cell_type": "code",
   "execution_count": 18,
   "metadata": {
    "colab": {
     "base_uri": "https://localhost:8080/"
    },
    "id": "fcaWZVK5OxdY",
    "outputId": "addec1ba-486d-4d14-f4f1-92b624826ee0"
   },
   "outputs": [
    {
     "data": {
      "text/plain": [
       "array([[0.99359655]], dtype=float32)"
      ]
     },
     "execution_count": 18,
     "metadata": {
      "tags": []
     },
     "output_type": "execute_result"
    }
   ],
   "source": [
    "text = \"I loved the movie !\"  # Prediction result > 0.5, this predicted the text as positive sentiment.\n",
    "model.predict([text])"
   ]
  },
  {
   "cell_type": "markdown",
   "metadata": {
    "id": "MqZhzEnCWdas"
   },
   "source": [
    "#**Bidirectional GRU**"
   ]
  },
  {
   "cell_type": "code",
   "execution_count": 1,
   "metadata": {
    "id": "pJjhvKNfMOfn"
   },
   "outputs": [],
   "source": [
    "from tensorflow.keras.preprocessing import text_dataset_from_directory\n",
    "from tensorflow.strings import regex_replace\n",
    "from tensorflow.keras.layers.experimental.preprocessing import TextVectorization\n",
    "from tensorflow.keras.models import Sequential\n",
    "from tensorflow.keras import Input\n",
    "from tensorflow.keras.layers import Dense, GRU, Embedding, Dropout , Bidirectional"
   ]
  },
  {
   "cell_type": "code",
   "execution_count": 2,
   "metadata": {
    "id": "w8q5D7tAMSPq"
   },
   "outputs": [],
   "source": [
    "def prepareData(dir):\n",
    "  data = text_dataset_from_directory(dir)\n",
    "  return data.map( lambda text, label: (regex_replace(text, '<br />', ' '), label),)"
   ]
  },
  {
   "cell_type": "code",
   "execution_count": 3,
   "metadata": {
    "colab": {
     "base_uri": "https://localhost:8080/"
    },
    "id": "e8Z3OuTYMSTS",
    "outputId": "27f35409-d628-4e3c-f77d-ab862c0aba90"
   },
   "outputs": [
    {
     "name": "stdout",
     "output_type": "stream",
     "text": [
      "Found 25000 files belonging to 2 classes.\n",
      "Found 25000 files belonging to 2 classes.\n"
     ]
    }
   ],
   "source": [
    "train_data = prepareData('movie-reviews-dataset/train')\n",
    "test_data = prepareData('movie-reviews-dataset/test')\n"
   ]
  },
  {
   "cell_type": "code",
   "execution_count": 4,
   "metadata": {
    "colab": {
     "base_uri": "https://localhost:8080/"
    },
    "id": "2i5pJysaPHR0",
    "outputId": "d6e3d977-7d75-4527-8856-5d0d89c382eb"
   },
   "outputs": [
    {
     "name": "stdout",
     "output_type": "stream",
     "text": [
      "WARNING:tensorflow:Please add `keras.layers.InputLayer` instead of `keras.Input` to Sequential model. `keras.Input` is intended to be used by Functional model.\n"
     ]
    }
   ],
   "source": [
    "model = Sequential()\n",
    "model.add(Input(shape=(1,), dtype=\"string\"))"
   ]
  },
  {
   "cell_type": "code",
   "execution_count": 5,
   "metadata": {
    "id": "0slZeByKPUwZ"
   },
   "outputs": [],
   "source": [
    "max_tokens = 1000\n",
    "max_len = 100\n",
    "vectorize_layer = TextVectorization(\n",
    "  max_tokens=max_tokens,\n",
    "  output_mode=\"int\",\n",
    "  output_sequence_length=max_len,\n",
    ")"
   ]
  },
  {
   "cell_type": "code",
   "execution_count": 6,
   "metadata": {
    "id": "kgValVpUPUzP"
   },
   "outputs": [],
   "source": [
    "train_texts = train_data.map(lambda text, label: text)\n",
    "vectorize_layer.adapt(train_texts)\n",
    "\n",
    "model.add(vectorize_layer)"
   ]
  },
  {
   "cell_type": "code",
   "execution_count": 7,
   "metadata": {
    "id": "LvRvy4dRPXfn"
   },
   "outputs": [],
   "source": [
    "model.add(Embedding(max_tokens + 1, 128))\n",
    "\n",
    "model.add(Bidirectional(GRU(64)))\n",
    "model.add(Dense(64, activation=\"relu\"))\n",
    "model.add(Dense(1, activation=\"sigmoid\"))"
   ]
  },
  {
   "cell_type": "code",
   "execution_count": 8,
   "metadata": {
    "colab": {
     "base_uri": "https://localhost:8080/"
    },
    "id": "pBhg5qu9PXjS",
    "outputId": "c029487c-afc1-43c9-cb70-208174cdb8bf"
   },
   "outputs": [
    {
     "name": "stdout",
     "output_type": "stream",
     "text": [
      "Epoch 1/10\n",
      "782/782 [==============================] - 94s 114ms/step - loss: 0.5257 - accuracy: 0.7218\n",
      "Epoch 2/10\n",
      "782/782 [==============================] - 89s 114ms/step - loss: 0.4220 - accuracy: 0.8060\n",
      "Epoch 3/10\n",
      "782/782 [==============================] - 90s 114ms/step - loss: 0.3872 - accuracy: 0.8246\n",
      "Epoch 4/10\n",
      "782/782 [==============================] - 90s 115ms/step - loss: 0.3554 - accuracy: 0.8394\n",
      "Epoch 5/10\n",
      "782/782 [==============================] - 89s 114ms/step - loss: 0.3292 - accuracy: 0.8519\n",
      "Epoch 6/10\n",
      "782/782 [==============================] - 90s 115ms/step - loss: 0.2999 - accuracy: 0.8648\n",
      "Epoch 7/10\n",
      "782/782 [==============================] - 89s 114ms/step - loss: 0.2729 - accuracy: 0.8790\n",
      "Epoch 8/10\n",
      "782/782 [==============================] - 89s 114ms/step - loss: 0.2454 - accuracy: 0.8911\n",
      "Epoch 9/10\n",
      "782/782 [==============================] - 89s 114ms/step - loss: 0.2165 - accuracy: 0.9043\n",
      "Epoch 10/10\n",
      "782/782 [==============================] - 89s 114ms/step - loss: 0.1907 - accuracy: 0.9163\n"
     ]
    },
    {
     "data": {
      "text/plain": [
       "<tensorflow.python.keras.callbacks.History at 0x7f642e68ca90>"
      ]
     },
     "execution_count": 8,
     "metadata": {
      "tags": []
     },
     "output_type": "execute_result"
    }
   ],
   "source": [
    "model.compile(loss=\"binary_crossentropy\", optimizer=\"adam\", metrics=[\"accuracy\"])\n",
    "model.fit(train_data, epochs=10, batch_size = 32)"
   ]
  },
  {
   "cell_type": "code",
   "execution_count": 10,
   "metadata": {
    "colab": {
     "base_uri": "https://localhost:8080/"
    },
    "id": "uPUgQzpnPXo5",
    "outputId": "b5f51cc2-b0cd-482b-86e4-a5d3f9eef4fc"
   },
   "outputs": [
    {
     "data": {
      "text/plain": [
       "[0.7846997380256653, 0.7623199820518494]"
      ]
     },
     "execution_count": 10,
     "metadata": {
      "tags": []
     },
     "output_type": "execute_result"
    }
   ],
   "source": [
    "model.evaluate(test_data, verbose=0)"
   ]
  },
  {
   "cell_type": "code",
   "execution_count": 11,
   "metadata": {
    "colab": {
     "base_uri": "https://localhost:8080/"
    },
    "id": "L5nqCwJKdXCV",
    "outputId": "13a5ec4d-95e5-4ca1-ec14-4e9c0226d93e"
   },
   "outputs": [
    {
     "data": {
      "text/plain": [
       "[0.1765107661485672, 0.9256799817085266]"
      ]
     },
     "execution_count": 11,
     "metadata": {
      "tags": []
     },
     "output_type": "execute_result"
    }
   ],
   "source": [
    "model.evaluate(train_data, verbose=0)"
   ]
  },
  {
   "cell_type": "code",
   "execution_count": 12,
   "metadata": {
    "colab": {
     "base_uri": "https://localhost:8080/"
    },
    "id": "z3hCGwbKPotd",
    "outputId": "e6e180e0-8f98-4c75-df4f-dd96fcf0d043"
   },
   "outputs": [
    {
     "data": {
      "text/plain": [
       "array([[0.8951876]], dtype=float32)"
      ]
     },
     "execution_count": 12,
     "metadata": {
      "tags": []
     },
     "output_type": "execute_result"
    }
   ],
   "source": [
    "text = \"I love the movie !\"\n",
    "model.predict([text])\n"
   ]
  }
 ],
 "metadata": {
  "colab": {
   "collapsed_sections": [],
   "name": "Sentiment Analysis_with_RNN_LSTM_GRU.ipynb",
   "provenance": []
  },
  "kernelspec": {
   "display_name": "Python 3",
   "language": "python",
   "name": "python3"
  },
  "language_info": {
   "codemirror_mode": {
    "name": "ipython",
    "version": 3
   },
   "file_extension": ".py",
   "mimetype": "text/x-python",
   "name": "python",
   "nbconvert_exporter": "python",
   "pygments_lexer": "ipython3",
   "version": "3.8.5"
  }
 },
 "nbformat": 4,
 "nbformat_minor": 1
}
